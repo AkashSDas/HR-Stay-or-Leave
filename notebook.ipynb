{
 "cells": [
  {
   "cell_type": "markdown",
   "metadata": {
    "papermill": {
     "duration": 0.037746,
     "end_time": "2021-04-02T07:31:58.951503",
     "exception": false,
     "start_time": "2021-04-02T07:31:58.913757",
     "status": "completed"
    },
    "tags": []
   },
   "source": [
    "# Predict HR Stay or Leave\n",
    "\n",
    "Here [HR Analytics](https://www.kaggle.com/giripujar/hr-analytics) dataset by [Giri Pujar](https://www.kaggle.com/giripujar) is used to create a classifier if a `HR` will stay or leave.\n",
    "\n",
    "Using the `unbalanced dataset` of employees of the company to predict which employee might stay or leave the company. `SMOT` is used to deal with the unbalanced dataset. `SMOTE` (synthetic minority oversampling technique) is one of the most commonly used `oversampling` methods to solve the imbalance problem.\n",
    "\n",
    "![](https://media.giphy.com/media/l0DAI7ZQCXxSZzaO4/giphy.gif)"
   ]
  },
  {
   "cell_type": "code",
   "execution_count": 1,
   "metadata": {
    "execution": {
     "iopub.execute_input": "2021-04-02T07:31:59.029875Z",
     "iopub.status.busy": "2021-04-02T07:31:59.029183Z",
     "iopub.status.idle": "2021-04-02T07:32:01.514531Z",
     "shell.execute_reply": "2021-04-02T07:32:01.515145Z"
    },
    "papermill": {
     "duration": 2.525463,
     "end_time": "2021-04-02T07:32:01.515486",
     "exception": false,
     "start_time": "2021-04-02T07:31:58.990023",
     "status": "completed"
    },
    "tags": []
   },
   "outputs": [],
   "source": [
    "import itertools\n",
    "\n",
    "import numpy as np\n",
    "import pandas as pd\n",
    "import matplotlib.pyplot as plt\n",
    "import seaborn as sns\n",
    "\n",
    "import statsmodels.api as sm\n",
    "from imblearn.over_sampling import SMOTE\n",
    "\n",
    "from sklearn import linear_model\n",
    "from sklearn.feature_selection import RFE\n",
    "from sklearn.preprocessing import StandardScaler, OneHotEncoder\n",
    "from sklearn.model_selection import (\n",
    "    GridSearchCV, StratifiedKFold, cross_val_score, learning_curve,\n",
    "    train_test_split\n",
    ")\n",
    "from sklearn.metrics import (\n",
    "    accuracy_score, classification_report, confusion_matrix, f1_score, log_loss,\n",
    "    precision_score, recall_score, roc_curve, roc_auc_score, precision_recall_curve, \n",
    "    auc\n",
    ")\n",
    "from sklearn.pipeline import Pipeline\n",
    "\n",
    "# Models\n",
    "from sklearn.svm import SVC\n",
    "from sklearn.tree import DecisionTreeClassifier\n",
    "from sklearn.neighbors import KNeighborsClassifier\n",
    "from sklearn.ensemble import RandomForestClassifier\n",
    "from sklearn.naive_bayes import GaussianNB\n",
    "from sklearn.linear_model import LogisticRegression, SGDClassifier\n",
    "\n",
    "from joblib import dump"
   ]
  },
  {
   "cell_type": "code",
   "execution_count": 2,
   "metadata": {
    "execution": {
     "iopub.execute_input": "2021-04-02T07:32:01.592275Z",
     "iopub.status.busy": "2021-04-02T07:32:01.591617Z",
     "iopub.status.idle": "2021-04-02T07:32:01.596285Z",
     "shell.execute_reply": "2021-04-02T07:32:01.596824Z"
    },
    "papermill": {
     "duration": 0.044458,
     "end_time": "2021-04-02T07:32:01.596994",
     "exception": false,
     "start_time": "2021-04-02T07:32:01.552536",
     "status": "completed"
    },
    "tags": []
   },
   "outputs": [],
   "source": [
    "# For seaborn colors\n",
    "sns.set(style='whitegrid', color_codes=True)"
   ]
  },
  {
   "cell_type": "code",
   "execution_count": 3,
   "metadata": {
    "execution": {
     "iopub.execute_input": "2021-04-02T07:32:01.673420Z",
     "iopub.status.busy": "2021-04-02T07:32:01.672754Z",
     "iopub.status.idle": "2021-04-02T07:32:01.766949Z",
     "shell.execute_reply": "2021-04-02T07:32:01.767470Z"
    },
    "papermill": {
     "duration": 0.134326,
     "end_time": "2021-04-02T07:32:01.767671",
     "exception": false,
     "start_time": "2021-04-02T07:32:01.633345",
     "status": "completed"
    },
    "tags": []
   },
   "outputs": [
    {
     "data": {
      "text/html": [
       "<div>\n",
       "<style scoped>\n",
       "    .dataframe tbody tr th:only-of-type {\n",
       "        vertical-align: middle;\n",
       "    }\n",
       "\n",
       "    .dataframe tbody tr th {\n",
       "        vertical-align: top;\n",
       "    }\n",
       "\n",
       "    .dataframe thead th {\n",
       "        text-align: right;\n",
       "    }\n",
       "</style>\n",
       "<table border=\"1\" class=\"dataframe\">\n",
       "  <thead>\n",
       "    <tr style=\"text-align: right;\">\n",
       "      <th></th>\n",
       "      <th>satisfaction_level</th>\n",
       "      <th>last_evaluation</th>\n",
       "      <th>number_project</th>\n",
       "      <th>average_montly_hours</th>\n",
       "      <th>time_spend_company</th>\n",
       "      <th>Work_accident</th>\n",
       "      <th>left</th>\n",
       "      <th>promotion_last_5years</th>\n",
       "      <th>Department</th>\n",
       "      <th>salary</th>\n",
       "    </tr>\n",
       "  </thead>\n",
       "  <tbody>\n",
       "    <tr>\n",
       "      <th>3381</th>\n",
       "      <td>0.55</td>\n",
       "      <td>0.69</td>\n",
       "      <td>3</td>\n",
       "      <td>225</td>\n",
       "      <td>2</td>\n",
       "      <td>0</td>\n",
       "      <td>0</td>\n",
       "      <td>0</td>\n",
       "      <td>sales</td>\n",
       "      <td>medium</td>\n",
       "    </tr>\n",
       "    <tr>\n",
       "      <th>967</th>\n",
       "      <td>0.85</td>\n",
       "      <td>0.92</td>\n",
       "      <td>4</td>\n",
       "      <td>275</td>\n",
       "      <td>5</td>\n",
       "      <td>0</td>\n",
       "      <td>1</td>\n",
       "      <td>0</td>\n",
       "      <td>support</td>\n",
       "      <td>medium</td>\n",
       "    </tr>\n",
       "    <tr>\n",
       "      <th>6266</th>\n",
       "      <td>0.72</td>\n",
       "      <td>0.81</td>\n",
       "      <td>4</td>\n",
       "      <td>200</td>\n",
       "      <td>2</td>\n",
       "      <td>0</td>\n",
       "      <td>0</td>\n",
       "      <td>0</td>\n",
       "      <td>marketing</td>\n",
       "      <td>low</td>\n",
       "    </tr>\n",
       "    <tr>\n",
       "      <th>10055</th>\n",
       "      <td>0.31</td>\n",
       "      <td>0.37</td>\n",
       "      <td>2</td>\n",
       "      <td>104</td>\n",
       "      <td>3</td>\n",
       "      <td>1</td>\n",
       "      <td>0</td>\n",
       "      <td>0</td>\n",
       "      <td>support</td>\n",
       "      <td>medium</td>\n",
       "    </tr>\n",
       "    <tr>\n",
       "      <th>12235</th>\n",
       "      <td>0.83</td>\n",
       "      <td>0.85</td>\n",
       "      <td>4</td>\n",
       "      <td>255</td>\n",
       "      <td>5</td>\n",
       "      <td>0</td>\n",
       "      <td>1</td>\n",
       "      <td>0</td>\n",
       "      <td>management</td>\n",
       "      <td>low</td>\n",
       "    </tr>\n",
       "  </tbody>\n",
       "</table>\n",
       "</div>"
      ],
      "text/plain": [
       "       satisfaction_level  last_evaluation  number_project  \\\n",
       "3381                 0.55             0.69               3   \n",
       "967                  0.85             0.92               4   \n",
       "6266                 0.72             0.81               4   \n",
       "10055                0.31             0.37               2   \n",
       "12235                0.83             0.85               4   \n",
       "\n",
       "       average_montly_hours  time_spend_company  Work_accident  left  \\\n",
       "3381                    225                   2              0     0   \n",
       "967                     275                   5              0     1   \n",
       "6266                    200                   2              0     0   \n",
       "10055                   104                   3              1     0   \n",
       "12235                   255                   5              0     1   \n",
       "\n",
       "       promotion_last_5years  Department  salary  \n",
       "3381                       0       sales  medium  \n",
       "967                        0     support  medium  \n",
       "6266                       0   marketing     low  \n",
       "10055                      0     support  medium  \n",
       "12235                      0  management     low  "
      ]
     },
     "execution_count": 3,
     "metadata": {},
     "output_type": "execute_result"
    }
   ],
   "source": [
    "# Loading the dataset\n",
    "df = pd.read_csv('/kaggle/input/hr-analytics/HR_comma_sep.csv')\n",
    "df.sample(5)"
   ]
  },
  {
   "cell_type": "markdown",
   "metadata": {
    "papermill": {
     "duration": 0.036857,
     "end_time": "2021-04-02T07:32:01.842028",
     "exception": false,
     "start_time": "2021-04-02T07:32:01.805171",
     "status": "completed"
    },
    "tags": []
   },
   "source": [
    "## Data preparation"
   ]
  },
  {
   "cell_type": "code",
   "execution_count": 4,
   "metadata": {
    "execution": {
     "iopub.execute_input": "2021-04-02T07:32:01.919469Z",
     "iopub.status.busy": "2021-04-02T07:32:01.918851Z",
     "iopub.status.idle": "2021-04-02T07:32:01.941823Z",
     "shell.execute_reply": "2021-04-02T07:32:01.941070Z"
    },
    "papermill": {
     "duration": 0.063105,
     "end_time": "2021-04-02T07:32:01.941973",
     "exception": false,
     "start_time": "2021-04-02T07:32:01.878868",
     "status": "completed"
    },
    "tags": []
   },
   "outputs": [
    {
     "name": "stdout",
     "output_type": "stream",
     "text": [
      "<class 'pandas.core.frame.DataFrame'>\n",
      "RangeIndex: 14999 entries, 0 to 14998\n",
      "Data columns (total 10 columns):\n",
      " #   Column                 Non-Null Count  Dtype  \n",
      "---  ------                 --------------  -----  \n",
      " 0   satisfaction_level     14999 non-null  float64\n",
      " 1   last_evaluation        14999 non-null  float64\n",
      " 2   number_project         14999 non-null  int64  \n",
      " 3   average_montly_hours   14999 non-null  int64  \n",
      " 4   time_spend_company     14999 non-null  int64  \n",
      " 5   Work_accident          14999 non-null  int64  \n",
      " 6   left                   14999 non-null  int64  \n",
      " 7   promotion_last_5years  14999 non-null  int64  \n",
      " 8   Department             14999 non-null  object \n",
      " 9   salary                 14999 non-null  object \n",
      "dtypes: float64(2), int64(6), object(2)\n",
      "memory usage: 1.1+ MB\n"
     ]
    }
   ],
   "source": [
    "df.info()"
   ]
  },
  {
   "cell_type": "markdown",
   "metadata": {
    "papermill": {
     "duration": 0.038377,
     "end_time": "2021-04-02T07:32:02.018387",
     "exception": false,
     "start_time": "2021-04-02T07:32:01.980010",
     "status": "completed"
    },
    "tags": []
   },
   "source": [
    "No missing data"
   ]
  },
  {
   "cell_type": "code",
   "execution_count": 5,
   "metadata": {
    "execution": {
     "iopub.execute_input": "2021-04-02T07:32:02.097826Z",
     "iopub.status.busy": "2021-04-02T07:32:02.096919Z",
     "iopub.status.idle": "2021-04-02T07:32:02.102962Z",
     "shell.execute_reply": "2021-04-02T07:32:02.102400Z"
    },
    "papermill": {
     "duration": 0.046924,
     "end_time": "2021-04-02T07:32:02.103100",
     "exception": false,
     "start_time": "2021-04-02T07:32:02.056176",
     "status": "completed"
    },
    "tags": []
   },
   "outputs": [],
   "source": [
    "def plot_countplot(column, ax=None):\n",
    "    with sns.axes_style('ticks'):\n",
    "        sns.countplot(x=column, palette=sns.color_palette('rocket'), ax=ax)\n",
    "        sns.despine(offset=6)"
   ]
  },
  {
   "cell_type": "code",
   "execution_count": 6,
   "metadata": {
    "execution": {
     "iopub.execute_input": "2021-04-02T07:32:02.184752Z",
     "iopub.status.busy": "2021-04-02T07:32:02.184029Z",
     "iopub.status.idle": "2021-04-02T07:32:02.382585Z",
     "shell.execute_reply": "2021-04-02T07:32:02.381591Z"
    },
    "papermill": {
     "duration": 0.241903,
     "end_time": "2021-04-02T07:32:02.382808",
     "exception": false,
     "start_time": "2021-04-02T07:32:02.140905",
     "status": "completed"
    },
    "tags": []
   },
   "outputs": [
    {
     "name": "stdout",
     "output_type": "stream",
     "text": [
      "HR stay - 76.19%\n",
      "HR leave - 23.81%\n"
     ]
    },
    {
     "data": {
      "image/png": "[encoded data removed]",
      "text/plain": [
       "<Figure size 432x288 with 1 Axes>"
      ]
     },
     "metadata": {},
     "output_type": "display_data"
    }
   ],
   "source": [
    "# Looking at how much is the dataset imbalanced?\n",
    "\n",
    "num_of_stay = round(len(df[df.left == 0]) / len(df) * 100, 2)\n",
    "print(f'HR stay - {num_of_stay}%')\n",
    "print(f'HR leave - {round(100 - num_of_stay, 2)}%')\n",
    "\n",
    "plot_countplot(df.left)"
   ]
  },
  {
   "cell_type": "markdown",
   "metadata": {
    "papermill": {
     "duration": 0.050335,
     "end_time": "2021-04-02T07:32:02.480612",
     "exception": false,
     "start_time": "2021-04-02T07:32:02.430277",
     "status": "completed"
    },
    "tags": []
   },
   "source": [
    "`Nominal data` assigns names to each data point without placing it in some sort of order. For example, the results of a test could be each classified nominally as a **pass** or **fail**.\n",
    "\n",
    "`Ordinal data` groups data according to some sort of ranking system: it orders the data. For example, test results could be grouped in descending order by grade: **A, B, C, D, E and F**\n",
    "\n",
    "More on difference between `nominal data` and `ordinal data` 👉 [Source](https://sciencing.com/difference-between-nominal-ordinal-data-8088584.html)"
   ]
  },
  {
   "cell_type": "markdown",
   "metadata": {
    "papermill": {
     "duration": 0.04003,
     "end_time": "2021-04-02T07:32:02.583502",
     "exception": false,
     "start_time": "2021-04-02T07:32:02.543472",
     "status": "completed"
    },
    "tags": []
   },
   "source": [
    "### Working with ordinal data like the salary coloumn"
   ]
  },
  {
   "cell_type": "code",
   "execution_count": 7,
   "metadata": {
    "execution": {
     "iopub.execute_input": "2021-04-02T07:32:02.685018Z",
     "iopub.status.busy": "2021-04-02T07:32:02.679639Z",
     "iopub.status.idle": "2021-04-02T07:32:02.699072Z",
     "shell.execute_reply": "2021-04-02T07:32:02.699725Z"
    },
    "papermill": {
     "duration": 0.071688,
     "end_time": "2021-04-02T07:32:02.699906",
     "exception": false,
     "start_time": "2021-04-02T07:32:02.628218",
     "status": "completed"
    },
    "tags": []
   },
   "outputs": [
    {
     "data": {
      "text/plain": [
       "0    0\n",
       "1    1\n",
       "2    1\n",
       "3    0\n",
       "4    0\n",
       "Name: salary, dtype: int64"
      ]
     },
     "execution_count": 7,
     "metadata": {},
     "output_type": "execute_result"
    }
   ],
   "source": [
    "replacement = {\n",
    "    'low': 0, \n",
    "    'medium': 1, \n",
    "    'high': 2\n",
    "}\n",
    "\n",
    "df.salary = df.salary.apply(lambda x: replacement[x])\n",
    "df.salary[:5]"
   ]
  },
  {
   "cell_type": "markdown",
   "metadata": {
    "papermill": {
     "duration": 0.045695,
     "end_time": "2021-04-02T07:32:02.788372",
     "exception": false,
     "start_time": "2021-04-02T07:32:02.742677",
     "status": "completed"
    },
    "tags": []
   },
   "source": [
    "### Working with nominal data like deparment column"
   ]
  },
  {
   "cell_type": "code",
   "execution_count": 8,
   "metadata": {
    "execution": {
     "iopub.execute_input": "2021-04-02T07:32:02.870799Z",
     "iopub.status.busy": "2021-04-02T07:32:02.869834Z",
     "iopub.status.idle": "2021-04-02T07:32:02.889158Z",
     "shell.execute_reply": "2021-04-02T07:32:02.889844Z"
    },
    "papermill": {
     "duration": 0.062513,
     "end_time": "2021-04-02T07:32:02.890073",
     "exception": false,
     "start_time": "2021-04-02T07:32:02.827560",
     "status": "completed"
    },
    "tags": []
   },
   "outputs": [
    {
     "name": "stdout",
     "output_type": "stream",
     "text": [
      "Unique Departments: 10\n"
     ]
    }
   ],
   "source": [
    "ohe = OneHotEncoder()\n",
    "\n",
    "dept_ohe_df = pd.DataFrame(df.Department)\n",
    "dept_ohe_df = pd.DataFrame(\n",
    "    ohe.fit_transform(dept_ohe_df[['Department']]).toarray()\n",
    ")\n",
    "\n",
    "print(f'Unique Departments: {len(df.Department.unique())}')"
   ]
  },
  {
   "cell_type": "code",
   "execution_count": 9,
   "metadata": {
    "execution": {
     "iopub.execute_input": "2021-04-02T07:32:02.977785Z",
     "iopub.status.busy": "2021-04-02T07:32:02.976803Z",
     "iopub.status.idle": "2021-04-02T07:32:02.980765Z",
     "shell.execute_reply": "2021-04-02T07:32:02.981278Z"
    },
    "papermill": {
     "duration": 0.051145,
     "end_time": "2021-04-02T07:32:02.981454",
     "exception": false,
     "start_time": "2021-04-02T07:32:02.930309",
     "status": "completed"
    },
    "tags": []
   },
   "outputs": [
    {
     "data": {
      "text/plain": [
       "['IT',\n",
       " 'RandD',\n",
       " 'accounting',\n",
       " 'hr',\n",
       " 'management',\n",
       " 'marketing',\n",
       " 'product',\n",
       " 'sales',\n",
       " 'support',\n",
       " 'technical']"
      ]
     },
     "execution_count": 9,
     "metadata": {},
     "output_type": "execute_result"
    }
   ],
   "source": [
    "col_names = []\n",
    "for col_name in ohe.get_feature_names():\n",
    "    col_name = col_name.split('_')[1]\n",
    "    col_names.append(col_name)\n",
    "\n",
    "col_names\n"
   ]
  },
  {
   "cell_type": "code",
   "execution_count": 10,
   "metadata": {
    "execution": {
     "iopub.execute_input": "2021-04-02T07:32:03.065802Z",
     "iopub.status.busy": "2021-04-02T07:32:03.064829Z",
     "iopub.status.idle": "2021-04-02T07:32:03.086392Z",
     "shell.execute_reply": "2021-04-02T07:32:03.085871Z"
    },
    "papermill": {
     "duration": 0.064889,
     "end_time": "2021-04-02T07:32:03.086555",
     "exception": false,
     "start_time": "2021-04-02T07:32:03.021666",
     "status": "completed"
    },
    "tags": []
   },
   "outputs": [
    {
     "data": {
      "text/html": [
       "<div>\n",
       "<style scoped>\n",
       "    .dataframe tbody tr th:only-of-type {\n",
       "        vertical-align: middle;\n",
       "    }\n",
       "\n",
       "    .dataframe tbody tr th {\n",
       "        vertical-align: top;\n",
       "    }\n",
       "\n",
       "    .dataframe thead th {\n",
       "        text-align: right;\n",
       "    }\n",
       "</style>\n",
       "<table border=\"1\" class=\"dataframe\">\n",
       "  <thead>\n",
       "    <tr style=\"text-align: right;\">\n",
       "      <th></th>\n",
       "      <th>IT</th>\n",
       "      <th>RandD</th>\n",
       "      <th>accounting</th>\n",
       "      <th>hr</th>\n",
       "      <th>management</th>\n",
       "      <th>marketing</th>\n",
       "      <th>product</th>\n",
       "      <th>sales</th>\n",
       "      <th>support</th>\n",
       "      <th>technical</th>\n",
       "    </tr>\n",
       "  </thead>\n",
       "  <tbody>\n",
       "    <tr>\n",
       "      <th>0</th>\n",
       "      <td>0.0</td>\n",
       "      <td>0.0</td>\n",
       "      <td>0.0</td>\n",
       "      <td>0.0</td>\n",
       "      <td>0.0</td>\n",
       "      <td>0.0</td>\n",
       "      <td>0.0</td>\n",
       "      <td>1.0</td>\n",
       "      <td>0.0</td>\n",
       "      <td>0.0</td>\n",
       "    </tr>\n",
       "    <tr>\n",
       "      <th>1</th>\n",
       "      <td>0.0</td>\n",
       "      <td>0.0</td>\n",
       "      <td>0.0</td>\n",
       "      <td>0.0</td>\n",
       "      <td>0.0</td>\n",
       "      <td>0.0</td>\n",
       "      <td>0.0</td>\n",
       "      <td>1.0</td>\n",
       "      <td>0.0</td>\n",
       "      <td>0.0</td>\n",
       "    </tr>\n",
       "    <tr>\n",
       "      <th>2</th>\n",
       "      <td>0.0</td>\n",
       "      <td>0.0</td>\n",
       "      <td>0.0</td>\n",
       "      <td>0.0</td>\n",
       "      <td>0.0</td>\n",
       "      <td>0.0</td>\n",
       "      <td>0.0</td>\n",
       "      <td>1.0</td>\n",
       "      <td>0.0</td>\n",
       "      <td>0.0</td>\n",
       "    </tr>\n",
       "    <tr>\n",
       "      <th>3</th>\n",
       "      <td>0.0</td>\n",
       "      <td>0.0</td>\n",
       "      <td>0.0</td>\n",
       "      <td>0.0</td>\n",
       "      <td>0.0</td>\n",
       "      <td>0.0</td>\n",
       "      <td>0.0</td>\n",
       "      <td>1.0</td>\n",
       "      <td>0.0</td>\n",
       "      <td>0.0</td>\n",
       "    </tr>\n",
       "    <tr>\n",
       "      <th>4</th>\n",
       "      <td>0.0</td>\n",
       "      <td>0.0</td>\n",
       "      <td>0.0</td>\n",
       "      <td>0.0</td>\n",
       "      <td>0.0</td>\n",
       "      <td>0.0</td>\n",
       "      <td>0.0</td>\n",
       "      <td>1.0</td>\n",
       "      <td>0.0</td>\n",
       "      <td>0.0</td>\n",
       "    </tr>\n",
       "  </tbody>\n",
       "</table>\n",
       "</div>"
      ],
      "text/plain": [
       "    IT  RandD  accounting   hr  management  marketing  product  sales  \\\n",
       "0  0.0    0.0         0.0  0.0         0.0        0.0      0.0    1.0   \n",
       "1  0.0    0.0         0.0  0.0         0.0        0.0      0.0    1.0   \n",
       "2  0.0    0.0         0.0  0.0         0.0        0.0      0.0    1.0   \n",
       "3  0.0    0.0         0.0  0.0         0.0        0.0      0.0    1.0   \n",
       "4  0.0    0.0         0.0  0.0         0.0        0.0      0.0    1.0   \n",
       "\n",
       "   support  technical  \n",
       "0      0.0        0.0  \n",
       "1      0.0        0.0  \n",
       "2      0.0        0.0  \n",
       "3      0.0        0.0  \n",
       "4      0.0        0.0  "
      ]
     },
     "execution_count": 10,
     "metadata": {},
     "output_type": "execute_result"
    }
   ],
   "source": [
    "dept_ohe_df.columns = col_names\n",
    "dept_ohe_df.head()"
   ]
  },
  {
   "cell_type": "markdown",
   "metadata": {
    "papermill": {
     "duration": 0.040437,
     "end_time": "2021-04-02T07:32:03.167990",
     "exception": false,
     "start_time": "2021-04-02T07:32:03.127553",
     "status": "completed"
    },
    "tags": []
   },
   "source": [
    "Removing one column from `dep_ohe_df` to avoid multi-corrliearity"
   ]
  },
  {
   "cell_type": "code",
   "execution_count": 11,
   "metadata": {
    "execution": {
     "iopub.execute_input": "2021-04-02T07:32:03.276101Z",
     "iopub.status.busy": "2021-04-02T07:32:03.275041Z",
     "iopub.status.idle": "2021-04-02T07:32:03.279154Z",
     "shell.execute_reply": "2021-04-02T07:32:03.279701Z"
    },
    "papermill": {
     "duration": 0.070678,
     "end_time": "2021-04-02T07:32:03.279872",
     "exception": false,
     "start_time": "2021-04-02T07:32:03.209194",
     "status": "completed"
    },
    "tags": []
   },
   "outputs": [
    {
     "data": {
      "text/html": [
       "<div>\n",
       "<style scoped>\n",
       "    .dataframe tbody tr th:only-of-type {\n",
       "        vertical-align: middle;\n",
       "    }\n",
       "\n",
       "    .dataframe tbody tr th {\n",
       "        vertical-align: top;\n",
       "    }\n",
       "\n",
       "    .dataframe thead th {\n",
       "        text-align: right;\n",
       "    }\n",
       "</style>\n",
       "<table border=\"1\" class=\"dataframe\">\n",
       "  <thead>\n",
       "    <tr style=\"text-align: right;\">\n",
       "      <th></th>\n",
       "      <th>RandD</th>\n",
       "      <th>accounting</th>\n",
       "      <th>hr</th>\n",
       "      <th>management</th>\n",
       "      <th>marketing</th>\n",
       "      <th>product</th>\n",
       "      <th>sales</th>\n",
       "      <th>support</th>\n",
       "      <th>technical</th>\n",
       "    </tr>\n",
       "  </thead>\n",
       "  <tbody>\n",
       "    <tr>\n",
       "      <th>0</th>\n",
       "      <td>0.0</td>\n",
       "      <td>0.0</td>\n",
       "      <td>0.0</td>\n",
       "      <td>0.0</td>\n",
       "      <td>0.0</td>\n",
       "      <td>0.0</td>\n",
       "      <td>1.0</td>\n",
       "      <td>0.0</td>\n",
       "      <td>0.0</td>\n",
       "    </tr>\n",
       "    <tr>\n",
       "      <th>1</th>\n",
       "      <td>0.0</td>\n",
       "      <td>0.0</td>\n",
       "      <td>0.0</td>\n",
       "      <td>0.0</td>\n",
       "      <td>0.0</td>\n",
       "      <td>0.0</td>\n",
       "      <td>1.0</td>\n",
       "      <td>0.0</td>\n",
       "      <td>0.0</td>\n",
       "    </tr>\n",
       "    <tr>\n",
       "      <th>2</th>\n",
       "      <td>0.0</td>\n",
       "      <td>0.0</td>\n",
       "      <td>0.0</td>\n",
       "      <td>0.0</td>\n",
       "      <td>0.0</td>\n",
       "      <td>0.0</td>\n",
       "      <td>1.0</td>\n",
       "      <td>0.0</td>\n",
       "      <td>0.0</td>\n",
       "    </tr>\n",
       "    <tr>\n",
       "      <th>3</th>\n",
       "      <td>0.0</td>\n",
       "      <td>0.0</td>\n",
       "      <td>0.0</td>\n",
       "      <td>0.0</td>\n",
       "      <td>0.0</td>\n",
       "      <td>0.0</td>\n",
       "      <td>1.0</td>\n",
       "      <td>0.0</td>\n",
       "      <td>0.0</td>\n",
       "    </tr>\n",
       "    <tr>\n",
       "      <th>4</th>\n",
       "      <td>0.0</td>\n",
       "      <td>0.0</td>\n",
       "      <td>0.0</td>\n",
       "      <td>0.0</td>\n",
       "      <td>0.0</td>\n",
       "      <td>0.0</td>\n",
       "      <td>1.0</td>\n",
       "      <td>0.0</td>\n",
       "      <td>0.0</td>\n",
       "    </tr>\n",
       "  </tbody>\n",
       "</table>\n",
       "</div>"
      ],
      "text/plain": [
       "   RandD  accounting   hr  management  marketing  product  sales  support  \\\n",
       "0    0.0         0.0  0.0         0.0        0.0      0.0    1.0      0.0   \n",
       "1    0.0         0.0  0.0         0.0        0.0      0.0    1.0      0.0   \n",
       "2    0.0         0.0  0.0         0.0        0.0      0.0    1.0      0.0   \n",
       "3    0.0         0.0  0.0         0.0        0.0      0.0    1.0      0.0   \n",
       "4    0.0         0.0  0.0         0.0        0.0      0.0    1.0      0.0   \n",
       "\n",
       "   technical  \n",
       "0        0.0  \n",
       "1        0.0  \n",
       "2        0.0  \n",
       "3        0.0  \n",
       "4        0.0  "
      ]
     },
     "execution_count": 11,
     "metadata": {},
     "output_type": "execute_result"
    }
   ],
   "source": [
    "dept_ohe_df = dept_ohe_df.drop(['IT'], axis='columns')\n",
    "dept_ohe_df.head()"
   ]
  },
  {
   "cell_type": "code",
   "execution_count": 12,
   "metadata": {
    "execution": {
     "iopub.execute_input": "2021-04-02T07:32:03.366975Z",
     "iopub.status.busy": "2021-04-02T07:32:03.365963Z",
     "iopub.status.idle": "2021-04-02T07:32:03.377435Z",
     "shell.execute_reply": "2021-04-02T07:32:03.378003Z"
    },
    "papermill": {
     "duration": 0.056842,
     "end_time": "2021-04-02T07:32:03.378185",
     "exception": false,
     "start_time": "2021-04-02T07:32:03.321343",
     "status": "completed"
    },
    "tags": []
   },
   "outputs": [
    {
     "data": {
      "text/html": [
       "<div>\n",
       "<style scoped>\n",
       "    .dataframe tbody tr th:only-of-type {\n",
       "        vertical-align: middle;\n",
       "    }\n",
       "\n",
       "    .dataframe tbody tr th {\n",
       "        vertical-align: top;\n",
       "    }\n",
       "\n",
       "    .dataframe thead th {\n",
       "        text-align: right;\n",
       "    }\n",
       "</style>\n",
       "<table border=\"1\" class=\"dataframe\">\n",
       "  <thead>\n",
       "    <tr style=\"text-align: right;\">\n",
       "      <th></th>\n",
       "      <th>left</th>\n",
       "    </tr>\n",
       "  </thead>\n",
       "  <tbody>\n",
       "    <tr>\n",
       "      <th>0</th>\n",
       "      <td>1</td>\n",
       "    </tr>\n",
       "    <tr>\n",
       "      <th>1</th>\n",
       "      <td>1</td>\n",
       "    </tr>\n",
       "    <tr>\n",
       "      <th>2</th>\n",
       "      <td>1</td>\n",
       "    </tr>\n",
       "    <tr>\n",
       "      <th>3</th>\n",
       "      <td>1</td>\n",
       "    </tr>\n",
       "    <tr>\n",
       "      <th>4</th>\n",
       "      <td>1</td>\n",
       "    </tr>\n",
       "  </tbody>\n",
       "</table>\n",
       "</div>"
      ],
      "text/plain": [
       "   left\n",
       "0     1\n",
       "1     1\n",
       "2     1\n",
       "3     1\n",
       "4     1"
      ]
     },
     "execution_count": 12,
     "metadata": {},
     "output_type": "execute_result"
    }
   ],
   "source": [
    "# Target column\n",
    "y = df[['left']]\n",
    "y.head()"
   ]
  },
  {
   "cell_type": "code",
   "execution_count": 13,
   "metadata": {
    "execution": {
     "iopub.execute_input": "2021-04-02T07:32:03.466100Z",
     "iopub.status.busy": "2021-04-02T07:32:03.465141Z",
     "iopub.status.idle": "2021-04-02T07:32:03.493344Z",
     "shell.execute_reply": "2021-04-02T07:32:03.492665Z"
    },
    "papermill": {
     "duration": 0.073117,
     "end_time": "2021-04-02T07:32:03.493487",
     "exception": false,
     "start_time": "2021-04-02T07:32:03.420370",
     "status": "completed"
    },
    "tags": []
   },
   "outputs": [
    {
     "data": {
      "text/html": [
       "<div>\n",
       "<style scoped>\n",
       "    .dataframe tbody tr th:only-of-type {\n",
       "        vertical-align: middle;\n",
       "    }\n",
       "\n",
       "    .dataframe tbody tr th {\n",
       "        vertical-align: top;\n",
       "    }\n",
       "\n",
       "    .dataframe thead th {\n",
       "        text-align: right;\n",
       "    }\n",
       "</style>\n",
       "<table border=\"1\" class=\"dataframe\">\n",
       "  <thead>\n",
       "    <tr style=\"text-align: right;\">\n",
       "      <th></th>\n",
       "      <th>RandD</th>\n",
       "      <th>accounting</th>\n",
       "      <th>hr</th>\n",
       "      <th>management</th>\n",
       "      <th>marketing</th>\n",
       "      <th>product</th>\n",
       "      <th>sales</th>\n",
       "      <th>support</th>\n",
       "      <th>technical</th>\n",
       "      <th>satisfaction_level</th>\n",
       "      <th>last_evaluation</th>\n",
       "      <th>number_project</th>\n",
       "      <th>average_montly_hours</th>\n",
       "      <th>time_spend_company</th>\n",
       "      <th>Work_accident</th>\n",
       "      <th>promotion_last_5years</th>\n",
       "      <th>salary</th>\n",
       "    </tr>\n",
       "  </thead>\n",
       "  <tbody>\n",
       "    <tr>\n",
       "      <th>0</th>\n",
       "      <td>0.0</td>\n",
       "      <td>0.0</td>\n",
       "      <td>0.0</td>\n",
       "      <td>0.0</td>\n",
       "      <td>0.0</td>\n",
       "      <td>0.0</td>\n",
       "      <td>1.0</td>\n",
       "      <td>0.0</td>\n",
       "      <td>0.0</td>\n",
       "      <td>0.38</td>\n",
       "      <td>0.53</td>\n",
       "      <td>2</td>\n",
       "      <td>157</td>\n",
       "      <td>3</td>\n",
       "      <td>0</td>\n",
       "      <td>0</td>\n",
       "      <td>0</td>\n",
       "    </tr>\n",
       "    <tr>\n",
       "      <th>1</th>\n",
       "      <td>0.0</td>\n",
       "      <td>0.0</td>\n",
       "      <td>0.0</td>\n",
       "      <td>0.0</td>\n",
       "      <td>0.0</td>\n",
       "      <td>0.0</td>\n",
       "      <td>1.0</td>\n",
       "      <td>0.0</td>\n",
       "      <td>0.0</td>\n",
       "      <td>0.80</td>\n",
       "      <td>0.86</td>\n",
       "      <td>5</td>\n",
       "      <td>262</td>\n",
       "      <td>6</td>\n",
       "      <td>0</td>\n",
       "      <td>0</td>\n",
       "      <td>1</td>\n",
       "    </tr>\n",
       "    <tr>\n",
       "      <th>2</th>\n",
       "      <td>0.0</td>\n",
       "      <td>0.0</td>\n",
       "      <td>0.0</td>\n",
       "      <td>0.0</td>\n",
       "      <td>0.0</td>\n",
       "      <td>0.0</td>\n",
       "      <td>1.0</td>\n",
       "      <td>0.0</td>\n",
       "      <td>0.0</td>\n",
       "      <td>0.11</td>\n",
       "      <td>0.88</td>\n",
       "      <td>7</td>\n",
       "      <td>272</td>\n",
       "      <td>4</td>\n",
       "      <td>0</td>\n",
       "      <td>0</td>\n",
       "      <td>1</td>\n",
       "    </tr>\n",
       "    <tr>\n",
       "      <th>3</th>\n",
       "      <td>0.0</td>\n",
       "      <td>0.0</td>\n",
       "      <td>0.0</td>\n",
       "      <td>0.0</td>\n",
       "      <td>0.0</td>\n",
       "      <td>0.0</td>\n",
       "      <td>1.0</td>\n",
       "      <td>0.0</td>\n",
       "      <td>0.0</td>\n",
       "      <td>0.72</td>\n",
       "      <td>0.87</td>\n",
       "      <td>5</td>\n",
       "      <td>223</td>\n",
       "      <td>5</td>\n",
       "      <td>0</td>\n",
       "      <td>0</td>\n",
       "      <td>0</td>\n",
       "    </tr>\n",
       "    <tr>\n",
       "      <th>4</th>\n",
       "      <td>0.0</td>\n",
       "      <td>0.0</td>\n",
       "      <td>0.0</td>\n",
       "      <td>0.0</td>\n",
       "      <td>0.0</td>\n",
       "      <td>0.0</td>\n",
       "      <td>1.0</td>\n",
       "      <td>0.0</td>\n",
       "      <td>0.0</td>\n",
       "      <td>0.37</td>\n",
       "      <td>0.52</td>\n",
       "      <td>2</td>\n",
       "      <td>159</td>\n",
       "      <td>3</td>\n",
       "      <td>0</td>\n",
       "      <td>0</td>\n",
       "      <td>0</td>\n",
       "    </tr>\n",
       "  </tbody>\n",
       "</table>\n",
       "</div>"
      ],
      "text/plain": [
       "   RandD  accounting   hr  management  marketing  product  sales  support  \\\n",
       "0    0.0         0.0  0.0         0.0        0.0      0.0    1.0      0.0   \n",
       "1    0.0         0.0  0.0         0.0        0.0      0.0    1.0      0.0   \n",
       "2    0.0         0.0  0.0         0.0        0.0      0.0    1.0      0.0   \n",
       "3    0.0         0.0  0.0         0.0        0.0      0.0    1.0      0.0   \n",
       "4    0.0         0.0  0.0         0.0        0.0      0.0    1.0      0.0   \n",
       "\n",
       "   technical  satisfaction_level  last_evaluation  number_project  \\\n",
       "0        0.0                0.38             0.53               2   \n",
       "1        0.0                0.80             0.86               5   \n",
       "2        0.0                0.11             0.88               7   \n",
       "3        0.0                0.72             0.87               5   \n",
       "4        0.0                0.37             0.52               2   \n",
       "\n",
       "   average_montly_hours  time_spend_company  Work_accident  \\\n",
       "0                   157                   3              0   \n",
       "1                   262                   6              0   \n",
       "2                   272                   4              0   \n",
       "3                   223                   5              0   \n",
       "4                   159                   3              0   \n",
       "\n",
       "   promotion_last_5years  salary  \n",
       "0                      0       0  \n",
       "1                      0       1  \n",
       "2                      0       1  \n",
       "3                      0       0  \n",
       "4                      0       0  "
      ]
     },
     "execution_count": 13,
     "metadata": {},
     "output_type": "execute_result"
    }
   ],
   "source": [
    "# Adding the ohe results and removing `left` column\n",
    "\n",
    "df = df.drop(['Department', 'left'], axis='columns')\n",
    "df = pd.concat([dept_ohe_df, df], axis='columns')\n",
    "df.head()"
   ]
  },
  {
   "cell_type": "code",
   "execution_count": 14,
   "metadata": {
    "execution": {
     "iopub.execute_input": "2021-04-02T07:32:03.582817Z",
     "iopub.status.busy": "2021-04-02T07:32:03.582173Z",
     "iopub.status.idle": "2021-04-02T07:32:03.608593Z",
     "shell.execute_reply": "2021-04-02T07:32:03.607856Z"
    },
    "papermill": {
     "duration": 0.072142,
     "end_time": "2021-04-02T07:32:03.608782",
     "exception": false,
     "start_time": "2021-04-02T07:32:03.536640",
     "status": "completed"
    },
    "tags": []
   },
   "outputs": [
    {
     "data": {
      "text/html": [
       "<div>\n",
       "<style scoped>\n",
       "    .dataframe tbody tr th:only-of-type {\n",
       "        vertical-align: middle;\n",
       "    }\n",
       "\n",
       "    .dataframe tbody tr th {\n",
       "        vertical-align: top;\n",
       "    }\n",
       "\n",
       "    .dataframe thead th {\n",
       "        text-align: right;\n",
       "    }\n",
       "</style>\n",
       "<table border=\"1\" class=\"dataframe\">\n",
       "  <thead>\n",
       "    <tr style=\"text-align: right;\">\n",
       "      <th></th>\n",
       "      <th>RandD</th>\n",
       "      <th>accounting</th>\n",
       "      <th>hr</th>\n",
       "      <th>management</th>\n",
       "      <th>marketing</th>\n",
       "      <th>product</th>\n",
       "      <th>sales</th>\n",
       "      <th>support</th>\n",
       "      <th>technical</th>\n",
       "      <th>satisfaction_level</th>\n",
       "      <th>last_evaluation</th>\n",
       "      <th>number_project</th>\n",
       "      <th>average_montly_hours</th>\n",
       "      <th>time_spend_company</th>\n",
       "      <th>Work_accident</th>\n",
       "      <th>promotion_last_5years</th>\n",
       "      <th>salary</th>\n",
       "    </tr>\n",
       "  </thead>\n",
       "  <tbody>\n",
       "    <tr>\n",
       "      <th>0</th>\n",
       "      <td>0.0</td>\n",
       "      <td>0.0</td>\n",
       "      <td>0.0</td>\n",
       "      <td>0.0</td>\n",
       "      <td>0.0</td>\n",
       "      <td>0.0</td>\n",
       "      <td>1.0</td>\n",
       "      <td>0.0</td>\n",
       "      <td>0.0</td>\n",
       "      <td>0.38</td>\n",
       "      <td>0.53</td>\n",
       "      <td>2</td>\n",
       "      <td>157</td>\n",
       "      <td>3</td>\n",
       "      <td>0</td>\n",
       "      <td>0</td>\n",
       "      <td>0</td>\n",
       "    </tr>\n",
       "    <tr>\n",
       "      <th>1</th>\n",
       "      <td>0.0</td>\n",
       "      <td>0.0</td>\n",
       "      <td>0.0</td>\n",
       "      <td>0.0</td>\n",
       "      <td>0.0</td>\n",
       "      <td>0.0</td>\n",
       "      <td>1.0</td>\n",
       "      <td>0.0</td>\n",
       "      <td>0.0</td>\n",
       "      <td>0.80</td>\n",
       "      <td>0.86</td>\n",
       "      <td>5</td>\n",
       "      <td>262</td>\n",
       "      <td>6</td>\n",
       "      <td>0</td>\n",
       "      <td>0</td>\n",
       "      <td>1</td>\n",
       "    </tr>\n",
       "    <tr>\n",
       "      <th>2</th>\n",
       "      <td>0.0</td>\n",
       "      <td>0.0</td>\n",
       "      <td>0.0</td>\n",
       "      <td>0.0</td>\n",
       "      <td>0.0</td>\n",
       "      <td>0.0</td>\n",
       "      <td>1.0</td>\n",
       "      <td>0.0</td>\n",
       "      <td>0.0</td>\n",
       "      <td>0.11</td>\n",
       "      <td>0.88</td>\n",
       "      <td>7</td>\n",
       "      <td>272</td>\n",
       "      <td>4</td>\n",
       "      <td>0</td>\n",
       "      <td>0</td>\n",
       "      <td>1</td>\n",
       "    </tr>\n",
       "    <tr>\n",
       "      <th>3</th>\n",
       "      <td>0.0</td>\n",
       "      <td>0.0</td>\n",
       "      <td>0.0</td>\n",
       "      <td>0.0</td>\n",
       "      <td>0.0</td>\n",
       "      <td>0.0</td>\n",
       "      <td>1.0</td>\n",
       "      <td>0.0</td>\n",
       "      <td>0.0</td>\n",
       "      <td>0.72</td>\n",
       "      <td>0.87</td>\n",
       "      <td>5</td>\n",
       "      <td>223</td>\n",
       "      <td>5</td>\n",
       "      <td>0</td>\n",
       "      <td>0</td>\n",
       "      <td>0</td>\n",
       "    </tr>\n",
       "    <tr>\n",
       "      <th>4</th>\n",
       "      <td>0.0</td>\n",
       "      <td>0.0</td>\n",
       "      <td>0.0</td>\n",
       "      <td>0.0</td>\n",
       "      <td>0.0</td>\n",
       "      <td>0.0</td>\n",
       "      <td>1.0</td>\n",
       "      <td>0.0</td>\n",
       "      <td>0.0</td>\n",
       "      <td>0.37</td>\n",
       "      <td>0.52</td>\n",
       "      <td>2</td>\n",
       "      <td>159</td>\n",
       "      <td>3</td>\n",
       "      <td>0</td>\n",
       "      <td>0</td>\n",
       "      <td>0</td>\n",
       "    </tr>\n",
       "  </tbody>\n",
       "</table>\n",
       "</div>"
      ],
      "text/plain": [
       "   RandD  accounting   hr  management  marketing  product  sales  support  \\\n",
       "0    0.0         0.0  0.0         0.0        0.0      0.0    1.0      0.0   \n",
       "1    0.0         0.0  0.0         0.0        0.0      0.0    1.0      0.0   \n",
       "2    0.0         0.0  0.0         0.0        0.0      0.0    1.0      0.0   \n",
       "3    0.0         0.0  0.0         0.0        0.0      0.0    1.0      0.0   \n",
       "4    0.0         0.0  0.0         0.0        0.0      0.0    1.0      0.0   \n",
       "\n",
       "   technical  satisfaction_level  last_evaluation  number_project  \\\n",
       "0        0.0                0.38             0.53               2   \n",
       "1        0.0                0.80             0.86               5   \n",
       "2        0.0                0.11             0.88               7   \n",
       "3        0.0                0.72             0.87               5   \n",
       "4        0.0                0.37             0.52               2   \n",
       "\n",
       "   average_montly_hours  time_spend_company  Work_accident  \\\n",
       "0                   157                   3              0   \n",
       "1                   262                   6              0   \n",
       "2                   272                   4              0   \n",
       "3                   223                   5              0   \n",
       "4                   159                   3              0   \n",
       "\n",
       "   promotion_last_5years  salary  \n",
       "0                      0       0  \n",
       "1                      0       1  \n",
       "2                      0       1  \n",
       "3                      0       0  \n",
       "4                      0       0  "
      ]
     },
     "execution_count": 14,
     "metadata": {},
     "output_type": "execute_result"
    }
   ],
   "source": [
    "x = df.copy()\n",
    "x.head()"
   ]
  },
  {
   "cell_type": "markdown",
   "metadata": {
    "papermill": {
     "duration": 0.043901,
     "end_time": "2021-04-02T07:32:03.696363",
     "exception": false,
     "start_time": "2021-04-02T07:32:03.652462",
     "status": "completed"
    },
    "tags": []
   },
   "source": [
    "## Modelling"
   ]
  },
  {
   "cell_type": "code",
   "execution_count": 15,
   "metadata": {
    "execution": {
     "iopub.execute_input": "2021-04-02T07:32:03.791203Z",
     "iopub.status.busy": "2021-04-02T07:32:03.790511Z",
     "iopub.status.idle": "2021-04-02T07:32:03.826854Z",
     "shell.execute_reply": "2021-04-02T07:32:03.826160Z"
    },
    "papermill": {
     "duration": 0.086861,
     "end_time": "2021-04-02T07:32:03.826996",
     "exception": false,
     "start_time": "2021-04-02T07:32:03.740135",
     "status": "completed"
    },
    "tags": []
   },
   "outputs": [
    {
     "data": {
      "text/html": [
       "<div>\n",
       "<style scoped>\n",
       "    .dataframe tbody tr th:only-of-type {\n",
       "        vertical-align: middle;\n",
       "    }\n",
       "\n",
       "    .dataframe tbody tr th {\n",
       "        vertical-align: top;\n",
       "    }\n",
       "\n",
       "    .dataframe thead th {\n",
       "        text-align: right;\n",
       "    }\n",
       "</style>\n",
       "<table border=\"1\" class=\"dataframe\">\n",
       "  <thead>\n",
       "    <tr style=\"text-align: right;\">\n",
       "      <th></th>\n",
       "      <th>RandD</th>\n",
       "      <th>accounting</th>\n",
       "      <th>hr</th>\n",
       "      <th>management</th>\n",
       "      <th>marketing</th>\n",
       "      <th>product</th>\n",
       "      <th>sales</th>\n",
       "      <th>support</th>\n",
       "      <th>technical</th>\n",
       "      <th>satisfaction_level</th>\n",
       "      <th>last_evaluation</th>\n",
       "      <th>number_project</th>\n",
       "      <th>average_montly_hours</th>\n",
       "      <th>time_spend_company</th>\n",
       "      <th>Work_accident</th>\n",
       "      <th>promotion_last_5years</th>\n",
       "      <th>salary</th>\n",
       "    </tr>\n",
       "  </thead>\n",
       "  <tbody>\n",
       "    <tr>\n",
       "      <th>0</th>\n",
       "      <td>-0.235321</td>\n",
       "      <td>-0.232148</td>\n",
       "      <td>-0.227647</td>\n",
       "      <td>-0.209391</td>\n",
       "      <td>-0.246322</td>\n",
       "      <td>-0.252953</td>\n",
       "      <td>1.619551</td>\n",
       "      <td>-0.417791</td>\n",
       "      <td>-0.470655</td>\n",
       "      <td>-0.936495</td>\n",
       "      <td>-1.087275</td>\n",
       "      <td>-1.462863</td>\n",
       "      <td>-0.882040</td>\n",
       "      <td>-0.341235</td>\n",
       "      <td>-0.411165</td>\n",
       "      <td>-0.147412</td>\n",
       "      <td>-0.933368</td>\n",
       "    </tr>\n",
       "    <tr>\n",
       "      <th>1</th>\n",
       "      <td>-0.235321</td>\n",
       "      <td>-0.232148</td>\n",
       "      <td>-0.227647</td>\n",
       "      <td>-0.209391</td>\n",
       "      <td>-0.246322</td>\n",
       "      <td>-0.252953</td>\n",
       "      <td>1.619551</td>\n",
       "      <td>-0.417791</td>\n",
       "      <td>-0.470655</td>\n",
       "      <td>0.752814</td>\n",
       "      <td>0.840707</td>\n",
       "      <td>0.971113</td>\n",
       "      <td>1.220423</td>\n",
       "      <td>1.713436</td>\n",
       "      <td>-0.411165</td>\n",
       "      <td>-0.147412</td>\n",
       "      <td>0.636092</td>\n",
       "    </tr>\n",
       "    <tr>\n",
       "      <th>2</th>\n",
       "      <td>-0.235321</td>\n",
       "      <td>-0.232148</td>\n",
       "      <td>-0.227647</td>\n",
       "      <td>-0.209391</td>\n",
       "      <td>-0.246322</td>\n",
       "      <td>-0.252953</td>\n",
       "      <td>1.619551</td>\n",
       "      <td>-0.417791</td>\n",
       "      <td>-0.470655</td>\n",
       "      <td>-2.022479</td>\n",
       "      <td>0.957554</td>\n",
       "      <td>2.593763</td>\n",
       "      <td>1.420657</td>\n",
       "      <td>0.343655</td>\n",
       "      <td>-0.411165</td>\n",
       "      <td>-0.147412</td>\n",
       "      <td>0.636092</td>\n",
       "    </tr>\n",
       "    <tr>\n",
       "      <th>3</th>\n",
       "      <td>-0.235321</td>\n",
       "      <td>-0.232148</td>\n",
       "      <td>-0.227647</td>\n",
       "      <td>-0.209391</td>\n",
       "      <td>-0.246322</td>\n",
       "      <td>-0.252953</td>\n",
       "      <td>1.619551</td>\n",
       "      <td>-0.417791</td>\n",
       "      <td>-0.470655</td>\n",
       "      <td>0.431041</td>\n",
       "      <td>0.899131</td>\n",
       "      <td>0.971113</td>\n",
       "      <td>0.439508</td>\n",
       "      <td>1.028546</td>\n",
       "      <td>-0.411165</td>\n",
       "      <td>-0.147412</td>\n",
       "      <td>-0.933368</td>\n",
       "    </tr>\n",
       "    <tr>\n",
       "      <th>4</th>\n",
       "      <td>-0.235321</td>\n",
       "      <td>-0.232148</td>\n",
       "      <td>-0.227647</td>\n",
       "      <td>-0.209391</td>\n",
       "      <td>-0.246322</td>\n",
       "      <td>-0.252953</td>\n",
       "      <td>1.619551</td>\n",
       "      <td>-0.417791</td>\n",
       "      <td>-0.470655</td>\n",
       "      <td>-0.976716</td>\n",
       "      <td>-1.145699</td>\n",
       "      <td>-1.462863</td>\n",
       "      <td>-0.841993</td>\n",
       "      <td>-0.341235</td>\n",
       "      <td>-0.411165</td>\n",
       "      <td>-0.147412</td>\n",
       "      <td>-0.933368</td>\n",
       "    </tr>\n",
       "  </tbody>\n",
       "</table>\n",
       "</div>"
      ],
      "text/plain": [
       "      RandD  accounting        hr  management  marketing   product     sales  \\\n",
       "0 -0.235321   -0.232148 -0.227647   -0.209391  -0.246322 -0.252953  1.619551   \n",
       "1 -0.235321   -0.232148 -0.227647   -0.209391  -0.246322 -0.252953  1.619551   \n",
       "2 -0.235321   -0.232148 -0.227647   -0.209391  -0.246322 -0.252953  1.619551   \n",
       "3 -0.235321   -0.232148 -0.227647   -0.209391  -0.246322 -0.252953  1.619551   \n",
       "4 -0.235321   -0.232148 -0.227647   -0.209391  -0.246322 -0.252953  1.619551   \n",
       "\n",
       "    support  technical  satisfaction_level  last_evaluation  number_project  \\\n",
       "0 -0.417791  -0.470655           -0.936495        -1.087275       -1.462863   \n",
       "1 -0.417791  -0.470655            0.752814         0.840707        0.971113   \n",
       "2 -0.417791  -0.470655           -2.022479         0.957554        2.593763   \n",
       "3 -0.417791  -0.470655            0.431041         0.899131        0.971113   \n",
       "4 -0.417791  -0.470655           -0.976716        -1.145699       -1.462863   \n",
       "\n",
       "   average_montly_hours  time_spend_company  Work_accident  \\\n",
       "0             -0.882040           -0.341235      -0.411165   \n",
       "1              1.220423            1.713436      -0.411165   \n",
       "2              1.420657            0.343655      -0.411165   \n",
       "3              0.439508            1.028546      -0.411165   \n",
       "4             -0.841993           -0.341235      -0.411165   \n",
       "\n",
       "   promotion_last_5years    salary  \n",
       "0              -0.147412 -0.933368  \n",
       "1              -0.147412  0.636092  \n",
       "2              -0.147412  0.636092  \n",
       "3              -0.147412 -0.933368  \n",
       "4              -0.147412 -0.933368  "
      ]
     },
     "execution_count": 15,
     "metadata": {},
     "output_type": "execute_result"
    }
   ],
   "source": [
    "# Scaling the dataset\n",
    "for column in x.columns:\n",
    "    x[column] = StandardScaler().fit_transform(x[column].values.reshape(-1, 1))\n",
    "    \n",
    "x.head()"
   ]
  },
  {
   "cell_type": "markdown",
   "metadata": {
    "papermill": {
     "duration": 0.043921,
     "end_time": "2021-04-02T07:32:03.915257",
     "exception": false,
     "start_time": "2021-04-02T07:32:03.871336",
     "status": "completed"
    },
    "tags": []
   },
   "source": [
    "### Balancing the unbalanced data"
   ]
  },
  {
   "cell_type": "code",
   "execution_count": 16,
   "metadata": {
    "execution": {
     "iopub.execute_input": "2021-04-02T07:32:04.011563Z",
     "iopub.status.busy": "2021-04-02T07:32:04.010886Z",
     "iopub.status.idle": "2021-04-02T07:32:04.024900Z",
     "shell.execute_reply": "2021-04-02T07:32:04.024247Z"
    },
    "papermill": {
     "duration": 0.065246,
     "end_time": "2021-04-02T07:32:04.025041",
     "exception": false,
     "start_time": "2021-04-02T07:32:03.959795",
     "status": "completed"
    },
    "tags": []
   },
   "outputs": [
    {
     "name": "stdout",
     "output_type": "stream",
     "text": [
      "Training set size: 8399\n",
      "Validation set size: 2100\n",
      "Test set size: 4500\n"
     ]
    }
   ],
   "source": [
    "# Creating train and test datasets using x and y\n",
    "x_train, x_test, y_train, y_test = train_test_split(x, y, test_size=0.3, random_state=10)\n",
    "\n",
    "# Creating train and cross-validation datasets using the x_train and y_train\n",
    "x_train, x_cv, y_train, y_cv = train_test_split(x_train, y_train, test_size=0.2, random_state=0)\n",
    "\n",
    "print(f'Training set size: {len(x_train)}')\n",
    "print(f'Validation set size: {len(x_cv)}')\n",
    "print(f'Test set size: {len(x_test)}')"
   ]
  },
  {
   "cell_type": "markdown",
   "metadata": {
    "papermill": {
     "duration": 0.044942,
     "end_time": "2021-04-02T07:32:04.114787",
     "exception": false,
     "start_time": "2021-04-02T07:32:04.069845",
     "status": "completed"
    },
    "tags": []
   },
   "source": [
    "Splitting the train dataset into train and cross validation data sets before oversampling to avoid `oversampling to bleed data` for cross_val_score."
   ]
  },
  {
   "cell_type": "code",
   "execution_count": 17,
   "metadata": {
    "execution": {
     "iopub.execute_input": "2021-04-02T07:32:04.211967Z",
     "iopub.status.busy": "2021-04-02T07:32:04.210945Z",
     "iopub.status.idle": "2021-04-02T07:32:04.363423Z",
     "shell.execute_reply": "2021-04-02T07:32:04.362867Z"
    },
    "papermill": {
     "duration": 0.204123,
     "end_time": "2021-04-02T07:32:04.363585",
     "exception": false,
     "start_time": "2021-04-02T07:32:04.159462",
     "status": "completed"
    },
    "tags": []
   },
   "outputs": [
    {
     "name": "stdout",
     "output_type": "stream",
     "text": [
      "Length of oversampled data is 12838\n",
      "Number of left no 6419\n",
      "Number of left yes 6419\n",
      "Proportion of left no data in oversampled data is 0.5\n",
      "Proportion of left yes data in oversampled data is 0.5\n"
     ]
    }
   ],
   "source": [
    "# Oversampling to balance the data\n",
    "\n",
    "_smote = SMOTE(random_state=0)\n",
    "\n",
    "sm_cols = x_train.columns\n",
    "\n",
    "x_train, y_train = _smote.fit_resample(x_train, y_train)\n",
    "x_train = pd.DataFrame(data=x_train, columns=sm_cols)\n",
    "y_train = pd.DataFrame(data=y_train, columns=['left'])\n",
    "\n",
    "# We can Check the numbers of our data\n",
    "print(f'Length of oversampled data is {len(x_train)}')\n",
    "\n",
    "print(f'Number of left no {len(y_train[y_train.left == 0])}')\n",
    "print(f'Number of left yes {len(y_train[y_train.left == 1])}')\n",
    "\n",
    "print(f'Proportion of left no data in oversampled data is {len(y_train[y_train.left == 0])/len(x_train)}')\n",
    "print(f'Proportion of left yes data in oversampled data is {len(y_train[y_train.left == 1])/len(x_train)}')"
   ]
  },
  {
   "cell_type": "markdown",
   "metadata": {
    "papermill": {
     "duration": 0.044837,
     "end_time": "2021-04-02T07:32:04.453255",
     "exception": false,
     "start_time": "2021-04-02T07:32:04.408418",
     "status": "completed"
    },
    "tags": []
   },
   "source": [
    "### Featrue Selection"
   ]
  },
  {
   "cell_type": "code",
   "execution_count": 18,
   "metadata": {
    "execution": {
     "iopub.execute_input": "2021-04-02T07:32:04.550635Z",
     "iopub.status.busy": "2021-04-02T07:32:04.549696Z",
     "iopub.status.idle": "2021-04-02T07:32:06.797326Z",
     "shell.execute_reply": "2021-04-02T07:32:06.797873Z"
    },
    "papermill": {
     "duration": 2.299847,
     "end_time": "2021-04-02T07:32:06.798046",
     "exception": false,
     "start_time": "2021-04-02T07:32:04.498199",
     "status": "completed"
    },
    "tags": []
   },
   "outputs": [
    {
     "data": {
      "image/png": "[encoded data removed]",
      "text/plain": [
       "<Figure size 1584x864 with 2 Axes>"
      ]
     },
     "metadata": {},
     "output_type": "display_data"
    }
   ],
   "source": [
    "# Using Pearson Correlation\n",
    "\n",
    "plt.figure(figsize=(22, 12))\n",
    "cor = x.corr()\n",
    "sns.heatmap(cor, annot=True, cmap=sns.cubehelix_palette(start=.5, rot=-.5, as_cmap=True))\n",
    "plt.show()"
   ]
  },
  {
   "cell_type": "code",
   "execution_count": 19,
   "metadata": {
    "execution": {
     "iopub.execute_input": "2021-04-02T07:32:06.907269Z",
     "iopub.status.busy": "2021-04-02T07:32:06.906599Z",
     "iopub.status.idle": "2021-04-02T07:32:06.909568Z",
     "shell.execute_reply": "2021-04-02T07:32:06.908963Z"
    },
    "papermill": {
     "duration": 0.059553,
     "end_time": "2021-04-02T07:32:06.909708",
     "exception": false,
     "start_time": "2021-04-02T07:32:06.850155",
     "status": "completed"
    },
    "tags": []
   },
   "outputs": [],
   "source": [
    "# For cross validation\n",
    "skf = StratifiedKFold(n_splits=10, random_state=0, shuffle=True)"
   ]
  },
  {
   "cell_type": "code",
   "execution_count": 20,
   "metadata": {
    "execution": {
     "iopub.execute_input": "2021-04-02T07:32:07.020643Z",
     "iopub.status.busy": "2021-04-02T07:32:07.019996Z",
     "iopub.status.idle": "2021-04-02T07:32:07.024866Z",
     "shell.execute_reply": "2021-04-02T07:32:07.025420Z"
    },
    "papermill": {
     "duration": 0.063317,
     "end_time": "2021-04-02T07:32:07.025623",
     "exception": false,
     "start_time": "2021-04-02T07:32:06.962306",
     "status": "completed"
    },
    "tags": []
   },
   "outputs": [
    {
     "data": {
      "text/plain": [
       "['RandD',\n",
       " 'accounting',\n",
       " 'hr',\n",
       " 'management',\n",
       " 'marketing',\n",
       " 'product',\n",
       " 'sales',\n",
       " 'support',\n",
       " 'technical']"
      ]
     },
     "execution_count": 20,
     "metadata": {},
     "output_type": "execute_result"
    }
   ],
   "source": [
    "col_names.remove('IT') # since IT is dropped\n",
    "col_names"
   ]
  },
  {
   "cell_type": "code",
   "execution_count": 21,
   "metadata": {
    "execution": {
     "iopub.execute_input": "2021-04-02T07:32:07.138320Z",
     "iopub.status.busy": "2021-04-02T07:32:07.137663Z",
     "iopub.status.idle": "2021-04-02T07:32:07.140945Z",
     "shell.execute_reply": "2021-04-02T07:32:07.140409Z"
    },
    "papermill": {
     "duration": 0.062466,
     "end_time": "2021-04-02T07:32:07.141083",
     "exception": false,
     "start_time": "2021-04-02T07:32:07.078617",
     "status": "completed"
    },
    "tags": []
   },
   "outputs": [],
   "source": [
    "x_cv = np.array(x_cv)\n",
    "x_cv = x_cv.astype('int')\n",
    "y_cv = np.array(y_cv)"
   ]
  },
  {
   "cell_type": "code",
   "execution_count": 22,
   "metadata": {
    "execution": {
     "iopub.execute_input": "2021-04-02T07:32:07.253984Z",
     "iopub.status.busy": "2021-04-02T07:32:07.253228Z",
     "iopub.status.idle": "2021-04-02T07:32:07.256434Z",
     "shell.execute_reply": "2021-04-02T07:32:07.255933Z"
    },
    "papermill": {
     "duration": 0.062146,
     "end_time": "2021-04-02T07:32:07.256605",
     "exception": false,
     "start_time": "2021-04-02T07:32:07.194459",
     "status": "completed"
    },
    "tags": []
   },
   "outputs": [],
   "source": [
    "models = [\n",
    "    LogisticRegression(), \n",
    "    SGDClassifier(), \n",
    "    KNeighborsClassifier(), \n",
    "    GaussianNB(), \n",
    "    DecisionTreeClassifier(),\n",
    "    RandomForestClassifier(),\n",
    "    SVC(),\n",
    "]"
   ]
  },
  {
   "cell_type": "code",
   "execution_count": 23,
   "metadata": {
    "execution": {
     "iopub.execute_input": "2021-04-02T07:32:07.372179Z",
     "iopub.status.busy": "2021-04-02T07:32:07.371386Z",
     "iopub.status.idle": "2021-04-02T07:32:13.746053Z",
     "shell.execute_reply": "2021-04-02T07:32:13.745254Z"
    },
    "papermill": {
     "duration": 6.436287,
     "end_time": "2021-04-02T07:32:13.746216",
     "exception": false,
     "start_time": "2021-04-02T07:32:07.309929",
     "status": "completed"
    },
    "tags": []
   },
   "outputs": [
    {
     "name": "stdout",
     "output_type": "stream",
     "text": [
      "== LogisticRegression() ==\n",
      "Cross-Validation mean-score: 0.8142857142857143\n",
      "\n",
      "== SGDClassifier() ==\n",
      "Cross-Validation mean-score: 0.8333333333333334\n",
      "\n",
      "== KNeighborsClassifier() ==\n",
      "Cross-Validation mean-score: 0.9047619047619048\n",
      "\n",
      "== GaussianNB() ==\n",
      "Cross-Validation mean-score: 0.5571428571428572\n",
      "\n",
      "== DecisionTreeClassifier() ==\n",
      "Cross-Validation mean-score: 0.9571428571428572\n",
      "\n",
      "== RandomForestClassifier() ==\n",
      "Cross-Validation mean-score: 0.9619047619047619\n",
      "\n",
      "== SVC() ==\n",
      "Cross-Validation mean-score: 0.9333333333333333\n",
      "\n"
     ]
    }
   ],
   "source": [
    "def cross_val_score(models, x_cv, y_cv):\n",
    "    for model in models:\n",
    "        scores = []\n",
    "        for train, test in skf.split(x_cv, y_cv):\n",
    "            x_train, x_test = x_cv[train], x_cv[test]\n",
    "            y_train, y_test = y_cv[train], y_cv[test]\n",
    "\n",
    "            _smote = SMOTE(random_state=0)\n",
    "            x_train_sm, y_train_sm = _smote.fit_resample(x_train, y_train)\n",
    "\n",
    "            model.fit(x_train_sm, y_train_sm)\n",
    "\n",
    "            score = model.score(x_test, y_test)\n",
    "            scores.append(score)\n",
    "\n",
    "        print(f'== {model} ==')\n",
    "        print(f'Cross-Validation mean-score: {np.mean(score)}')\n",
    "        print()\n",
    "\n",
    "\n",
    "cross_val_score(models, x_cv, y_cv)"
   ]
  },
  {
   "cell_type": "markdown",
   "metadata": {
    "papermill": {
     "duration": 0.056063,
     "end_time": "2021-04-02T07:32:13.860843",
     "exception": false,
     "start_time": "2021-04-02T07:32:13.804780",
     "status": "completed"
    },
    "tags": []
   },
   "source": [
    "### Recursive Feature Elimination"
   ]
  },
  {
   "cell_type": "code",
   "execution_count": 24,
   "metadata": {
    "execution": {
     "iopub.execute_input": "2021-04-02T07:32:13.982563Z",
     "iopub.status.busy": "2021-04-02T07:32:13.980918Z",
     "iopub.status.idle": "2021-04-02T07:32:28.620430Z",
     "shell.execute_reply": "2021-04-02T07:32:28.619892Z"
    },
    "papermill": {
     "duration": 14.703761,
     "end_time": "2021-04-02T07:32:28.620587",
     "exception": false,
     "start_time": "2021-04-02T07:32:13.916826",
     "status": "completed"
    },
    "tags": []
   },
   "outputs": [
    {
     "name": "stdout",
     "output_type": "stream",
     "text": [
      "[False False False False False False False False False  True  True  True\n",
      "  True  True False False False]\n",
      "[ 9 10  7 11 12 13  4  6  5  1  1  1  1  1  3  8  2]\n"
     ]
    }
   ],
   "source": [
    "rfe = RandomForestClassifier()\n",
    "\n",
    "rfe = RFE(rfe, n_features_to_select=5)\n",
    "rfe.fit(x_train, y_train.values.ravel())\n",
    "\n",
    "selector = rfe.support_\n",
    "\n",
    "print(rfe.support_)\n",
    "print(rfe.ranking_)"
   ]
  },
  {
   "cell_type": "markdown",
   "metadata": {
    "papermill": {
     "duration": 0.055686,
     "end_time": "2021-04-02T07:32:28.731952",
     "exception": false,
     "start_time": "2021-04-02T07:32:28.676266",
     "status": "completed"
    },
    "tags": []
   },
   "source": [
    "Here we took RandomForestClassifier model with 5 features and RFE gave feature ranking as above, but the selection of number ‘5’ was random. Now we need to find the optimum number of features, for which the accuracy is the highest. We do that by using loop starting with 1 feature and going up to 18. We then take the one for which the accuracy is highest."
   ]
  },
  {
   "cell_type": "code",
   "execution_count": 25,
   "metadata": {
    "execution": {
     "iopub.execute_input": "2021-04-02T07:32:28.850683Z",
     "iopub.status.busy": "2021-04-02T07:32:28.849991Z",
     "iopub.status.idle": "2021-04-02T07:32:28.854266Z",
     "shell.execute_reply": "2021-04-02T07:32:28.854837Z"
    },
    "papermill": {
     "duration": 0.066446,
     "end_time": "2021-04-02T07:32:28.855015",
     "exception": false,
     "start_time": "2021-04-02T07:32:28.788569",
     "status": "completed"
    },
    "tags": []
   },
   "outputs": [
    {
     "data": {
      "text/plain": [
       "17"
      ]
     },
     "execution_count": 25,
     "metadata": {},
     "output_type": "execute_result"
    }
   ],
   "source": [
    "len(x.columns)"
   ]
  },
  {
   "cell_type": "code",
   "execution_count": 26,
   "metadata": {
    "execution": {
     "iopub.execute_input": "2021-04-02T07:32:28.971280Z",
     "iopub.status.busy": "2021-04-02T07:32:28.970308Z",
     "iopub.status.idle": "2021-04-02T07:33:14.635109Z",
     "shell.execute_reply": "2021-04-02T07:33:14.635872Z"
    },
    "papermill": {
     "duration": 45.724774,
     "end_time": "2021-04-02T07:33:14.636098",
     "exception": false,
     "start_time": "2021-04-02T07:32:28.911324",
     "status": "completed"
    },
    "tags": []
   },
   "outputs": [
    {
     "name": "stdout",
     "output_type": "stream",
     "text": [
      "Optimum number of features: 7\n",
      "Score with 7 features: 0.957143\n"
     ]
    }
   ],
   "source": [
    "def rfe(model, x_cv, y_cv):\n",
    "    # number of features\n",
    "    nof_list = np.arange(1, 17 + 1)\n",
    "    high_score = 0\n",
    "\n",
    "    # variable to store the optimum features\n",
    "    nof = 0\n",
    "    score_list = []\n",
    "\n",
    "    for n in range(len(nof_list)):\n",
    "        x_train, x_test, y_train, y_test = train_test_split(\n",
    "            x_cv, y_cv, test_size=0.3, random_state=0\n",
    "        )\n",
    "\n",
    "        _smote = SMOTE(random_state=0)\n",
    "        x_train_sm, y_train_sm = _smote.fit_resample(x_train, y_train)\n",
    "\n",
    "        rfe = RFE(model, n_features_to_select=nof_list[n])\n",
    "        x_train_rfe = rfe.fit_transform(x_train_sm, y_train_sm)\n",
    "        x_test_rfe = rfe.transform(x_test)\n",
    "\n",
    "        model.fit(x_train_rfe, y_train_sm)\n",
    "\n",
    "        score = model.score(x_test_rfe, y_test)\n",
    "        score_list.append(score)\n",
    "\n",
    "        if score > high_score:\n",
    "            high_score = score\n",
    "            nof = nof_list[n]\n",
    "\n",
    "    return (nof, high_score)\n",
    "\n",
    "\n",
    "nof, high_score = rfe(RandomForestClassifier(), x_cv, y_cv)\n",
    "\n",
    "print(\"Optimum number of features: %d\" % nof)\n",
    "print(\"Score with %d features: %f\" % (nof, high_score))"
   ]
  },
  {
   "cell_type": "markdown",
   "metadata": {
    "papermill": {
     "duration": 0.05664,
     "end_time": "2021-04-02T07:33:14.750493",
     "exception": false,
     "start_time": "2021-04-02T07:33:14.693853",
     "status": "completed"
    },
    "tags": []
   },
   "source": [
    "As seen from above code, the optimum number of features is `nof`. We now feed `nof` as number of features to RFE and get the final set of features given by RFE method, as follows"
   ]
  },
  {
   "cell_type": "markdown",
   "metadata": {
    "papermill": {
     "duration": 0.056429,
     "end_time": "2021-04-02T07:33:14.864372",
     "exception": false,
     "start_time": "2021-04-02T07:33:14.807943",
     "status": "completed"
    },
    "tags": []
   },
   "source": [
    "### Performing Feature Elimination"
   ]
  },
  {
   "cell_type": "code",
   "execution_count": 27,
   "metadata": {
    "execution": {
     "iopub.execute_input": "2021-04-02T07:33:14.988237Z",
     "iopub.status.busy": "2021-04-02T07:33:14.987488Z",
     "iopub.status.idle": "2021-04-02T07:33:27.187032Z",
     "shell.execute_reply": "2021-04-02T07:33:27.186142Z"
    },
    "papermill": {
     "duration": 12.265496,
     "end_time": "2021-04-02T07:33:27.187251",
     "exception": false,
     "start_time": "2021-04-02T07:33:14.921755",
     "status": "completed"
    },
    "tags": []
   },
   "outputs": [
    {
     "name": "stdout",
     "output_type": "stream",
     "text": [
      "[False False False False False False False False False  True  True  True\n",
      "  True  True  True False  True]\n",
      "[ 8  7  5  9 10 11  2  4  3  1  1  1  1  1  1  6  1]\n",
      "\n",
      "Number of features selected: 17\n"
     ]
    }
   ],
   "source": [
    "model = RandomForestClassifier()\n",
    "\n",
    "rfe = RFE(model, n_features_to_select=nof)\n",
    "rfe.fit(x_train, y_train.values.ravel())\n",
    "\n",
    "selector = rfe.support_\n",
    "\n",
    "print(rfe.support_)\n",
    "print(rfe.ranking_)\n",
    "\n",
    "num_of_selected_features = len(rfe.support_)\n",
    "print(f'\\nNumber of features selected: {num_of_selected_features}')"
   ]
  },
  {
   "cell_type": "code",
   "execution_count": 28,
   "metadata": {
    "execution": {
     "iopub.execute_input": "2021-04-02T07:33:27.308781Z",
     "iopub.status.busy": "2021-04-02T07:33:27.307988Z",
     "iopub.status.idle": "2021-04-02T07:33:27.312334Z",
     "shell.execute_reply": "2021-04-02T07:33:27.311407Z"
    },
    "papermill": {
     "duration": 0.067185,
     "end_time": "2021-04-02T07:33:27.312536",
     "exception": false,
     "start_time": "2021-04-02T07:33:27.245351",
     "status": "completed"
    },
    "tags": []
   },
   "outputs": [
    {
     "name": "stdout",
     "output_type": "stream",
     "text": [
      "satisfaction_level\n",
      "last_evaluation\n",
      "number_project\n",
      "average_montly_hours\n",
      "time_spend_company\n",
      "Work_accident\n",
      "salary\n"
     ]
    }
   ],
   "source": [
    "# Selected features\n",
    "\n",
    "col = (x_train.columns)\n",
    "result = itertools.compress(col, selector)\n",
    "\n",
    "col_names = []\n",
    "for c in result:\n",
    "    col_names.append(c)\n",
    "    print(c)"
   ]
  },
  {
   "cell_type": "code",
   "execution_count": 29,
   "metadata": {
    "execution": {
     "iopub.execute_input": "2021-04-02T07:33:27.437570Z",
     "iopub.status.busy": "2021-04-02T07:33:27.436464Z",
     "iopub.status.idle": "2021-04-02T07:33:27.442401Z",
     "shell.execute_reply": "2021-04-02T07:33:27.441785Z"
    },
    "papermill": {
     "duration": 0.071632,
     "end_time": "2021-04-02T07:33:27.442561",
     "exception": false,
     "start_time": "2021-04-02T07:33:27.370929",
     "status": "completed"
    },
    "tags": []
   },
   "outputs": [
    {
     "data": {
      "text/plain": [
       "7"
      ]
     },
     "execution_count": 29,
     "metadata": {},
     "output_type": "execute_result"
    }
   ],
   "source": [
    "x_train = x_train[col_names]\n",
    "x_test = x_test[col_names]\n",
    "\n",
    "len(col_names)"
   ]
  },
  {
   "cell_type": "code",
   "execution_count": 30,
   "metadata": {
    "execution": {
     "iopub.execute_input": "2021-04-02T07:33:27.565826Z",
     "iopub.status.busy": "2021-04-02T07:33:27.565161Z",
     "iopub.status.idle": "2021-04-02T07:33:27.641557Z",
     "shell.execute_reply": "2021-04-02T07:33:27.640659Z"
    },
    "papermill": {
     "duration": 0.141338,
     "end_time": "2021-04-02T07:33:27.641786",
     "exception": false,
     "start_time": "2021-04-02T07:33:27.500448",
     "status": "completed"
    },
    "tags": []
   },
   "outputs": [
    {
     "name": "stdout",
     "output_type": "stream",
     "text": [
      "Optimization terminated successfully.\n",
      "         Current function value: 0.541671\n",
      "         Iterations 6\n",
      "                           Results: Logit\n",
      "=====================================================================\n",
      "Model:                Logit             Pseudo R-squared:  0.219     \n",
      "Dependent Variable:   left              AIC:               13921.9511\n",
      "Date:                 2021-04-02 07:33  BIC:               13974.1722\n",
      "No. Observations:     12838             Log-Likelihood:    -6954.0   \n",
      "Df Model:             6                 LL-Null:           -8898.6   \n",
      "Df Residuals:         12831             LLR p-value:       0.0000    \n",
      "Converged:            1.0000            Scale:             1.0000    \n",
      "No. Iterations:       6.0000                                         \n",
      "---------------------------------------------------------------------\n",
      "                      Coef.  Std.Err.    z     P>|z|   [0.025  0.975]\n",
      "---------------------------------------------------------------------\n",
      "satisfaction_level   -0.9709   0.0234 -41.4969 0.0000 -1.0168 -0.9251\n",
      "last_evaluation       0.1624   0.0260   6.2449 0.0000  0.1114  0.2134\n",
      "number_project       -0.4062   0.0259 -15.6905 0.0000 -0.4569 -0.3555\n",
      "average_montly_hours  0.2344   0.0268   8.7596 0.0000  0.1820  0.2868\n",
      "time_spend_company    0.5650   0.0257  22.0032 0.0000  0.5147  0.6153\n",
      "Work_accident        -0.4538   0.0245 -18.5500 0.0000 -0.5018 -0.4059\n",
      "salary               -0.3928   0.0220 -17.8897 0.0000 -0.4358 -0.3497\n",
      "=====================================================================\n",
      "\n"
     ]
    }
   ],
   "source": [
    "# Implementing the model\n",
    "\n",
    "cols = col_names.copy()\n",
    "\n",
    "x_train = x_train[cols]\n",
    "y_train = y_train['left']\n",
    "\n",
    "logit_model = sm.Logit(y_train, x_train)\n",
    "\n",
    "result = logit_model.fit()\n",
    "\n",
    "print(result.summary2())"
   ]
  },
  {
   "cell_type": "markdown",
   "metadata": {
    "papermill": {
     "duration": 0.057901,
     "end_time": "2021-04-02T07:33:27.766064",
     "exception": false,
     "start_time": "2021-04-02T07:33:27.708163",
     "status": "completed"
    },
    "tags": []
   },
   "source": [
    "Every Feature that we got from `Recursive Feature Elimination` is selected since no feature's `p-value is greater that 0.05`."
   ]
  },
  {
   "cell_type": "markdown",
   "metadata": {
    "papermill": {
     "duration": 0.058296,
     "end_time": "2021-04-02T07:33:27.884960",
     "exception": false,
     "start_time": "2021-04-02T07:33:27.826664",
     "status": "completed"
    },
    "tags": []
   },
   "source": [
    "### Creating the model"
   ]
  },
  {
   "cell_type": "code",
   "execution_count": 31,
   "metadata": {
    "execution": {
     "iopub.execute_input": "2021-04-02T07:33:28.010643Z",
     "iopub.status.busy": "2021-04-02T07:33:28.009955Z",
     "iopub.status.idle": "2021-04-02T07:34:35.346297Z",
     "shell.execute_reply": "2021-04-02T07:34:35.346839Z"
    },
    "papermill": {
     "duration": 67.403509,
     "end_time": "2021-04-02T07:34:35.347018",
     "exception": false,
     "start_time": "2021-04-02T07:33:27.943509",
     "status": "completed"
    },
    "tags": []
   },
   "outputs": [
    {
     "data": {
      "text/plain": [
       "RandomForestClassifier(criterion='entropy', max_features='log2')"
      ]
     },
     "execution_count": 31,
     "metadata": {},
     "output_type": "execute_result"
    }
   ],
   "source": [
    "def rt_param_selection(x, y, nfolds):\n",
    "    criterion = ['gini', 'entropy']\n",
    "    max_features = ['auto', 'sqrt', 'log2']\n",
    "    param_grid = {'criterion': criterion, 'max_features': max_features}\n",
    "\n",
    "    grid_search = GridSearchCV(RandomForestClassifier(), param_grid, cv=nfolds)\n",
    "    grid_search.fit(x, y)\n",
    "    grid_search.best_estimator_\n",
    "    return grid_search.best_estimator_\n",
    "\n",
    "\n",
    "skf = StratifiedKFold(n_splits=10)\n",
    "best_estimator_ = rt_param_selection(x_train, y_train, skf)\n",
    "best_estimator_"
   ]
  },
  {
   "cell_type": "code",
   "execution_count": 32,
   "metadata": {
    "execution": {
     "iopub.execute_input": "2021-04-02T07:34:35.466633Z",
     "iopub.status.busy": "2021-04-02T07:34:35.465999Z",
     "iopub.status.idle": "2021-04-02T07:34:46.167628Z",
     "shell.execute_reply": "2021-04-02T07:34:46.168108Z"
    },
    "papermill": {
     "duration": 10.763232,
     "end_time": "2021-04-02T07:34:46.168345",
     "exception": false,
     "start_time": "2021-04-02T07:34:35.405113",
     "status": "completed"
    },
    "tags": []
   },
   "outputs": [
    {
     "name": "stdout",
     "output_type": "stream",
     "text": [
      "== DecisionTreeClassifier(criterion='entropy', max_features='log2',\n",
      "                       random_state=1716001901) ==\n",
      "Cross-Validation mean-score: 0.9333333333333333\n",
      "\n",
      "== DecisionTreeClassifier(criterion='entropy', max_features='log2',\n",
      "                       random_state=576578122) ==\n",
      "Cross-Validation mean-score: 0.9238095238095239\n",
      "\n",
      "== DecisionTreeClassifier(criterion='entropy', max_features='log2',\n",
      "                       random_state=1167233644) ==\n",
      "Cross-Validation mean-score: 0.9285714285714286\n",
      "\n",
      "== DecisionTreeClassifier(criterion='entropy', max_features='log2',\n",
      "                       random_state=1138618173) ==\n",
      "Cross-Validation mean-score: 0.9285714285714286\n",
      "\n",
      "== DecisionTreeClassifier(criterion='entropy', max_features='log2',\n",
      "                       random_state=1640905621) ==\n",
      "Cross-Validation mean-score: 0.9333333333333333\n",
      "\n",
      "== DecisionTreeClassifier(criterion='entropy', max_features='log2',\n",
      "                       random_state=266738659) ==\n",
      "Cross-Validation mean-score: 0.9285714285714286\n",
      "\n",
      "== DecisionTreeClassifier(criterion='entropy', max_features='log2',\n",
      "                       random_state=500882399) ==\n",
      "Cross-Validation mean-score: 0.9238095238095239\n",
      "\n",
      "== DecisionTreeClassifier(criterion='entropy', max_features='log2',\n",
      "                       random_state=630842558) ==\n",
      "Cross-Validation mean-score: 0.9476190476190476\n",
      "\n",
      "== DecisionTreeClassifier(criterion='entropy', max_features='log2',\n",
      "                       random_state=711583276) ==\n",
      "Cross-Validation mean-score: 0.9523809523809523\n",
      "\n",
      "== DecisionTreeClassifier(criterion='entropy', max_features='log2',\n",
      "                       random_state=1839167479) ==\n",
      "Cross-Validation mean-score: 0.9428571428571428\n",
      "\n",
      "== DecisionTreeClassifier(criterion='entropy', max_features='log2',\n",
      "                       random_state=1187024762) ==\n",
      "Cross-Validation mean-score: 0.9380952380952381\n",
      "\n",
      "== DecisionTreeClassifier(criterion='entropy', max_features='log2',\n",
      "                       random_state=1252787480) ==\n",
      "Cross-Validation mean-score: 0.9238095238095239\n",
      "\n",
      "== DecisionTreeClassifier(criterion='entropy', max_features='log2',\n",
      "                       random_state=546601830) ==\n",
      "Cross-Validation mean-score: 0.9380952380952381\n",
      "\n",
      "== DecisionTreeClassifier(criterion='entropy', max_features='log2',\n",
      "                       random_state=2037510162) ==\n",
      "Cross-Validation mean-score: 0.9476190476190476\n",
      "\n",
      "== DecisionTreeClassifier(criterion='entropy', max_features='log2',\n",
      "                       random_state=2100405576) ==\n",
      "Cross-Validation mean-score: 0.9333333333333333\n",
      "\n",
      "== DecisionTreeClassifier(criterion='entropy', max_features='log2',\n",
      "                       random_state=33499366) ==\n",
      "Cross-Validation mean-score: 0.9380952380952381\n",
      "\n",
      "== DecisionTreeClassifier(criterion='entropy', max_features='log2',\n",
      "                       random_state=237658171) ==\n",
      "Cross-Validation mean-score: 0.9238095238095239\n",
      "\n",
      "== DecisionTreeClassifier(criterion='entropy', max_features='log2',\n",
      "                       random_state=1898392552) ==\n",
      "Cross-Validation mean-score: 0.9285714285714286\n",
      "\n",
      "== DecisionTreeClassifier(criterion='entropy', max_features='log2',\n",
      "                       random_state=340974184) ==\n",
      "Cross-Validation mean-score: 0.9238095238095239\n",
      "\n",
      "== DecisionTreeClassifier(criterion='entropy', max_features='log2',\n",
      "                       random_state=1844263973) ==\n",
      "Cross-Validation mean-score: 0.9285714285714286\n",
      "\n",
      "== DecisionTreeClassifier(criterion='entropy', max_features='log2',\n",
      "                       random_state=405806123) ==\n",
      "Cross-Validation mean-score: 0.9476190476190476\n",
      "\n",
      "== DecisionTreeClassifier(criterion='entropy', max_features='log2',\n",
      "                       random_state=141053362) ==\n",
      "Cross-Validation mean-score: 0.9333333333333333\n",
      "\n",
      "== DecisionTreeClassifier(criterion='entropy', max_features='log2',\n",
      "                       random_state=1593895364) ==\n",
      "Cross-Validation mean-score: 0.9238095238095239\n",
      "\n",
      "== DecisionTreeClassifier(criterion='entropy', max_features='log2',\n",
      "                       random_state=2102125250) ==\n",
      "Cross-Validation mean-score: 0.9380952380952381\n",
      "\n",
      "== DecisionTreeClassifier(criterion='entropy', max_features='log2',\n",
      "                       random_state=972564528) ==\n",
      "Cross-Validation mean-score: 0.9476190476190476\n",
      "\n",
      "== DecisionTreeClassifier(criterion='entropy', max_features='log2',\n",
      "                       random_state=2106309232) ==\n",
      "Cross-Validation mean-score: 0.9333333333333333\n",
      "\n",
      "== DecisionTreeClassifier(criterion='entropy', max_features='log2',\n",
      "                       random_state=158360346) ==\n",
      "Cross-Validation mean-score: 0.9333333333333333\n",
      "\n",
      "== DecisionTreeClassifier(criterion='entropy', max_features='log2',\n",
      "                       random_state=2129723835) ==\n",
      "Cross-Validation mean-score: 0.9333333333333333\n",
      "\n",
      "== DecisionTreeClassifier(criterion='entropy', max_features='log2',\n",
      "                       random_state=1440644912) ==\n",
      "Cross-Validation mean-score: 0.9380952380952381\n",
      "\n",
      "== DecisionTreeClassifier(criterion='entropy', max_features='log2',\n",
      "                       random_state=14620658) ==\n",
      "Cross-Validation mean-score: 0.9333333333333333\n",
      "\n",
      "== DecisionTreeClassifier(criterion='entropy', max_features='log2',\n",
      "                       random_state=244555136) ==\n",
      "Cross-Validation mean-score: 0.919047619047619\n",
      "\n",
      "== DecisionTreeClassifier(criterion='entropy', max_features='log2',\n",
      "                       random_state=876560586) ==\n",
      "Cross-Validation mean-score: 0.9428571428571428\n",
      "\n",
      "== DecisionTreeClassifier(criterion='entropy', max_features='log2',\n",
      "                       random_state=946740203) ==\n",
      "Cross-Validation mean-score: 0.9285714285714286\n",
      "\n",
      "== DecisionTreeClassifier(criterion='entropy', max_features='log2',\n",
      "                       random_state=1983325040) ==\n",
      "Cross-Validation mean-score: 0.9476190476190476\n",
      "\n",
      "== DecisionTreeClassifier(criterion='entropy', max_features='log2',\n",
      "                       random_state=1016783178) ==\n",
      "Cross-Validation mean-score: 0.9523809523809523\n",
      "\n",
      "== DecisionTreeClassifier(criterion='entropy', max_features='log2',\n",
      "                       random_state=457607982) ==\n",
      "Cross-Validation mean-score: 0.9285714285714286\n",
      "\n",
      "== DecisionTreeClassifier(criterion='entropy', max_features='log2',\n",
      "                       random_state=1174398596) ==\n",
      "Cross-Validation mean-score: 0.9285714285714286\n",
      "\n",
      "== DecisionTreeClassifier(criterion='entropy', max_features='log2',\n",
      "                       random_state=1760981869) ==\n",
      "Cross-Validation mean-score: 0.9238095238095239\n",
      "\n",
      "== DecisionTreeClassifier(criterion='entropy', max_features='log2',\n",
      "                       random_state=1418956771) ==\n",
      "Cross-Validation mean-score: 0.9476190476190476\n",
      "\n",
      "== DecisionTreeClassifier(criterion='entropy', max_features='log2',\n",
      "                       random_state=1107396860) ==\n",
      "Cross-Validation mean-score: 0.9380952380952381\n",
      "\n",
      "== DecisionTreeClassifier(criterion='entropy', max_features='log2',\n",
      "                       random_state=1657608247) ==\n",
      "Cross-Validation mean-score: 0.9142857142857143\n",
      "\n",
      "== DecisionTreeClassifier(criterion='entropy', max_features='log2',\n",
      "                       random_state=111304863) ==\n",
      "Cross-Validation mean-score: 0.9428571428571428\n",
      "\n",
      "== DecisionTreeClassifier(criterion='entropy', max_features='log2',\n",
      "                       random_state=1929261943) ==\n",
      "Cross-Validation mean-score: 0.9285714285714286\n",
      "\n",
      "== DecisionTreeClassifier(criterion='entropy', max_features='log2',\n",
      "                       random_state=782567477) ==\n",
      "Cross-Validation mean-score: 0.9333333333333333\n",
      "\n",
      "== DecisionTreeClassifier(criterion='entropy', max_features='log2',\n",
      "                       random_state=1663601275) ==\n",
      "Cross-Validation mean-score: 0.9380952380952381\n",
      "\n",
      "== DecisionTreeClassifier(criterion='entropy', max_features='log2',\n",
      "                       random_state=1392659898) ==\n",
      "Cross-Validation mean-score: 0.9142857142857143\n",
      "\n",
      "== DecisionTreeClassifier(criterion='entropy', max_features='log2',\n",
      "                       random_state=947486868) ==\n",
      "Cross-Validation mean-score: 0.9380952380952381\n",
      "\n",
      "== DecisionTreeClassifier(criterion='entropy', max_features='log2',\n",
      "                       random_state=18045003) ==\n",
      "Cross-Validation mean-score: 0.9238095238095239\n",
      "\n",
      "== DecisionTreeClassifier(criterion='entropy', max_features='log2',\n",
      "                       random_state=1691228608) ==\n",
      "Cross-Validation mean-score: 0.9285714285714286\n",
      "\n",
      "== DecisionTreeClassifier(criterion='entropy', max_features='log2',\n",
      "                       random_state=2135929745) ==\n",
      "Cross-Validation mean-score: 0.9476190476190476\n",
      "\n",
      "== DecisionTreeClassifier(criterion='entropy', max_features='log2',\n",
      "                       random_state=151510781) ==\n",
      "Cross-Validation mean-score: 0.9428571428571428\n",
      "\n",
      "== DecisionTreeClassifier(criterion='entropy', max_features='log2',\n",
      "                       random_state=1283416929) ==\n",
      "Cross-Validation mean-score: 0.9380952380952381\n",
      "\n",
      "== DecisionTreeClassifier(criterion='entropy', max_features='log2',\n",
      "                       random_state=2118203070) ==\n",
      "Cross-Validation mean-score: 0.9333333333333333\n",
      "\n",
      "== DecisionTreeClassifier(criterion='entropy', max_features='log2',\n",
      "                       random_state=2116406205) ==\n",
      "Cross-Validation mean-score: 0.9238095238095239\n",
      "\n",
      "== DecisionTreeClassifier(criterion='entropy', max_features='log2',\n",
      "                       random_state=2012492531) ==\n",
      "Cross-Validation mean-score: 0.9333333333333333\n",
      "\n",
      "== DecisionTreeClassifier(criterion='entropy', max_features='log2',\n",
      "                       random_state=173229338) ==\n",
      "Cross-Validation mean-score: 0.9523809523809523\n",
      "\n",
      "== DecisionTreeClassifier(criterion='entropy', max_features='log2',\n",
      "                       random_state=661516769) ==\n",
      "Cross-Validation mean-score: 0.9571428571428572\n",
      "\n",
      "== DecisionTreeClassifier(criterion='entropy', max_features='log2',\n",
      "                       random_state=1477367029) ==\n",
      "Cross-Validation mean-score: 0.9333333333333333\n",
      "\n",
      "== DecisionTreeClassifier(criterion='entropy', max_features='log2',\n",
      "                       random_state=831320279) ==\n",
      "Cross-Validation mean-score: 0.9333333333333333\n",
      "\n",
      "== DecisionTreeClassifier(criterion='entropy', max_features='log2',\n",
      "                       random_state=2068718876) ==\n",
      "Cross-Validation mean-score: 0.9333333333333333\n",
      "\n",
      "== DecisionTreeClassifier(criterion='entropy', max_features='log2',\n",
      "                       random_state=720868105) ==\n",
      "Cross-Validation mean-score: 0.9428571428571428\n",
      "\n",
      "== DecisionTreeClassifier(criterion='entropy', max_features='log2',\n",
      "                       random_state=1689633391) ==\n",
      "Cross-Validation mean-score: 0.9380952380952381\n",
      "\n",
      "== DecisionTreeClassifier(criterion='entropy', max_features='log2',\n",
      "                       random_state=507583001) ==\n",
      "Cross-Validation mean-score: 0.9380952380952381\n",
      "\n",
      "== DecisionTreeClassifier(criterion='entropy', max_features='log2',\n",
      "                       random_state=1891235516) ==\n",
      "Cross-Validation mean-score: 0.919047619047619\n",
      "\n",
      "== DecisionTreeClassifier(criterion='entropy', max_features='log2',\n",
      "                       random_state=1112163073) ==\n",
      "Cross-Validation mean-score: 0.9285714285714286\n",
      "\n",
      "== DecisionTreeClassifier(criterion='entropy', max_features='log2',\n",
      "                       random_state=1451320628) ==\n",
      "Cross-Validation mean-score: 0.9238095238095239\n",
      "\n",
      "== DecisionTreeClassifier(criterion='entropy', max_features='log2',\n",
      "                       random_state=780548956) ==\n",
      "Cross-Validation mean-score: 0.9333333333333333\n",
      "\n",
      "== DecisionTreeClassifier(criterion='entropy', max_features='log2',\n",
      "                       random_state=312970076) ==\n",
      "Cross-Validation mean-score: 0.9285714285714286\n",
      "\n",
      "== DecisionTreeClassifier(criterion='entropy', max_features='log2',\n",
      "                       random_state=1046212954) ==\n",
      "Cross-Validation mean-score: 0.9333333333333333\n",
      "\n",
      "== DecisionTreeClassifier(criterion='entropy', max_features='log2',\n",
      "                       random_state=1586499254) ==\n",
      "Cross-Validation mean-score: 0.9428571428571428\n",
      "\n",
      "== DecisionTreeClassifier(criterion='entropy', max_features='log2',\n",
      "                       random_state=1966241848) ==\n",
      "Cross-Validation mean-score: 0.9285714285714286\n",
      "\n",
      "== DecisionTreeClassifier(criterion='entropy', max_features='log2',\n",
      "                       random_state=1224180549) ==\n",
      "Cross-Validation mean-score: 0.9428571428571428\n",
      "\n",
      "== DecisionTreeClassifier(criterion='entropy', max_features='log2',\n",
      "                       random_state=1887801521) ==\n",
      "Cross-Validation mean-score: 0.919047619047619\n",
      "\n",
      "== DecisionTreeClassifier(criterion='entropy', max_features='log2',\n",
      "                       random_state=1799658835) ==\n",
      "Cross-Validation mean-score: 0.9428571428571428\n",
      "\n",
      "== DecisionTreeClassifier(criterion='entropy', max_features='log2',\n",
      "                       random_state=787218562) ==\n",
      "Cross-Validation mean-score: 0.9285714285714286\n",
      "\n",
      "== DecisionTreeClassifier(criterion='entropy', max_features='log2',\n",
      "                       random_state=872764441) ==\n",
      "Cross-Validation mean-score: 0.9380952380952381\n",
      "\n",
      "== DecisionTreeClassifier(criterion='entropy', max_features='log2',\n",
      "                       random_state=934561805) ==\n",
      "Cross-Validation mean-score: 0.9428571428571428\n",
      "\n",
      "== DecisionTreeClassifier(criterion='entropy', max_features='log2',\n",
      "                       random_state=1848686496) ==\n",
      "Cross-Validation mean-score: 0.9523809523809523\n",
      "\n",
      "== DecisionTreeClassifier(criterion='entropy', max_features='log2',\n",
      "                       random_state=733632765) ==\n",
      "Cross-Validation mean-score: 0.9380952380952381\n",
      "\n",
      "== DecisionTreeClassifier(criterion='entropy', max_features='log2',\n",
      "                       random_state=1956950311) ==\n",
      "Cross-Validation mean-score: 0.9285714285714286\n",
      "\n",
      "== DecisionTreeClassifier(criterion='entropy', max_features='log2',\n",
      "                       random_state=1328437729) ==\n",
      "Cross-Validation mean-score: 0.9428571428571428\n",
      "\n",
      "== DecisionTreeClassifier(criterion='entropy', max_features='log2',\n",
      "                       random_state=1759838908) ==\n",
      "Cross-Validation mean-score: 0.9428571428571428\n",
      "\n",
      "== DecisionTreeClassifier(criterion='entropy', max_features='log2',\n",
      "                       random_state=856220583) ==\n",
      "Cross-Validation mean-score: 0.9476190476190476\n",
      "\n",
      "== DecisionTreeClassifier(criterion='entropy', max_features='log2',\n",
      "                       random_state=1229430356) ==\n",
      "Cross-Validation mean-score: 0.9428571428571428\n",
      "\n",
      "== DecisionTreeClassifier(criterion='entropy', max_features='log2',\n",
      "                       random_state=1197598069) ==\n",
      "Cross-Validation mean-score: 0.9428571428571428\n",
      "\n",
      "== DecisionTreeClassifier(criterion='entropy', max_features='log2',\n",
      "                       random_state=1269476680) ==\n",
      "Cross-Validation mean-score: 0.9476190476190476\n",
      "\n",
      "== DecisionTreeClassifier(criterion='entropy', max_features='log2',\n",
      "                       random_state=933445207) ==\n",
      "Cross-Validation mean-score: 0.9142857142857143\n",
      "\n",
      "== DecisionTreeClassifier(criterion='entropy', max_features='log2',\n",
      "                       random_state=178710212) ==\n",
      "Cross-Validation mean-score: 0.9333333333333333\n",
      "\n",
      "== DecisionTreeClassifier(criterion='entropy', max_features='log2',\n",
      "                       random_state=2002685323) ==\n",
      "Cross-Validation mean-score: 0.9428571428571428\n",
      "\n",
      "== DecisionTreeClassifier(criterion='entropy', max_features='log2',\n",
      "                       random_state=472515425) ==\n",
      "Cross-Validation mean-score: 0.9428571428571428\n",
      "\n",
      "== DecisionTreeClassifier(criterion='entropy', max_features='log2',\n",
      "                       random_state=654875741) ==\n",
      "Cross-Validation mean-score: 0.919047619047619\n",
      "\n",
      "== DecisionTreeClassifier(criterion='entropy', max_features='log2',\n",
      "                       random_state=1581067635) ==\n",
      "Cross-Validation mean-score: 0.9285714285714286\n",
      "\n",
      "== DecisionTreeClassifier(criterion='entropy', max_features='log2',\n",
      "                       random_state=68192646) ==\n",
      "Cross-Validation mean-score: 0.9476190476190476\n",
      "\n",
      "== DecisionTreeClassifier(criterion='entropy', max_features='log2',\n",
      "                       random_state=585012469) ==\n",
      "Cross-Validation mean-score: 0.9285714285714286\n",
      "\n",
      "== DecisionTreeClassifier(criterion='entropy', max_features='log2',\n",
      "                       random_state=577350732) ==\n",
      "Cross-Validation mean-score: 0.9428571428571428\n",
      "\n",
      "== DecisionTreeClassifier(criterion='entropy', max_features='log2',\n",
      "                       random_state=508609066) ==\n",
      "Cross-Validation mean-score: 0.9523809523809523\n",
      "\n",
      "== DecisionTreeClassifier(criterion='entropy', max_features='log2',\n",
      "                       random_state=2137563759) ==\n",
      "Cross-Validation mean-score: 0.9380952380952381\n",
      "\n",
      "== DecisionTreeClassifier(criterion='entropy', max_features='log2',\n",
      "                       random_state=1515099491) ==\n",
      "Cross-Validation mean-score: 0.9238095238095239\n",
      "\n",
      "== DecisionTreeClassifier(criterion='entropy', max_features='log2',\n",
      "                       random_state=1873770165) ==\n",
      "Cross-Validation mean-score: 0.9428571428571428\n",
      "\n",
      "== DecisionTreeClassifier(criterion='entropy', max_features='log2',\n",
      "                       random_state=1910470116) ==\n",
      "Cross-Validation mean-score: 0.9095238095238095\n",
      "\n"
     ]
    }
   ],
   "source": [
    "cross_val_score(best_estimator_, x_cv, y_cv)"
   ]
  },
  {
   "cell_type": "code",
   "execution_count": 33,
   "metadata": {
    "execution": {
     "iopub.execute_input": "2021-04-02T07:34:46.328573Z",
     "iopub.status.busy": "2021-04-02T07:34:46.327814Z",
     "iopub.status.idle": "2021-04-02T07:45:52.193457Z",
     "shell.execute_reply": "2021-04-02T07:45:52.191491Z"
    },
    "papermill": {
     "duration": 665.950195,
     "end_time": "2021-04-02T07:45:52.193995",
     "exception": false,
     "start_time": "2021-04-02T07:34:46.243800",
     "status": "completed"
    },
    "tags": []
   },
   "outputs": [],
   "source": [
    "# Plotting learning curve\n",
    "\n",
    "_size = np.arange(0.01, 1.01, 0.01)\n",
    "train_sizes = np.array(_size)\n",
    "scoring = 'neg_mean_squared_error'\n",
    "\n",
    "train_sizes_abs, train_scores, cv_scores = learning_curve(\n",
    "    RandomForestClassifier(criterion='entropy'), \n",
    "    x_train, y_train, \n",
    "    train_sizes=train_sizes, cv=skf, scoring=scoring\n",
    ")"
   ]
  },
  {
   "cell_type": "code",
   "execution_count": 34,
   "metadata": {
    "execution": {
     "iopub.execute_input": "2021-04-02T07:45:52.368656Z",
     "iopub.status.busy": "2021-04-02T07:45:52.366585Z",
     "iopub.status.idle": "2021-04-02T07:45:52.372636Z",
     "shell.execute_reply": "2021-04-02T07:45:52.371906Z"
    },
    "papermill": {
     "duration": 0.097531,
     "end_time": "2021-04-02T07:45:52.372807",
     "exception": false,
     "start_time": "2021-04-02T07:45:52.275276",
     "status": "completed"
    },
    "tags": []
   },
   "outputs": [],
   "source": [
    "train_scores_mean = []\n",
    "for row in train_scores:\n",
    "    _mean = row.mean()\n",
    "    train_scores_mean.append(_mean)\n",
    "    \n",
    "cv_scores_mean = []\n",
    "for row in cv_scores:\n",
    "    _mean = row.mean()\n",
    "    cv_scores_mean.append(_mean)    \n",
    "    \n",
    "train_scores_mean = -np.array(train_scores_mean)\n",
    "cv_scores_mean = -np.array(cv_scores_mean)"
   ]
  },
  {
   "cell_type": "code",
   "execution_count": 35,
   "metadata": {
    "execution": {
     "iopub.execute_input": "2021-04-02T07:45:52.538202Z",
     "iopub.status.busy": "2021-04-02T07:45:52.537504Z",
     "iopub.status.idle": "2021-04-02T07:45:52.800041Z",
     "shell.execute_reply": "2021-04-02T07:45:52.800746Z"
    },
    "papermill": {
     "duration": 0.344289,
     "end_time": "2021-04-02T07:45:52.800983",
     "exception": false,
     "start_time": "2021-04-02T07:45:52.456694",
     "status": "completed"
    },
    "tags": []
   },
   "outputs": [
    {
     "data": {
      "text/plain": [
       "<matplotlib.legend.Legend at 0x7fc77562a710>"
      ]
     },
     "execution_count": 35,
     "metadata": {},
     "output_type": "execute_result"
    },
    {
     "data": {
      "image/png": "[encoded data removed]",
      "text/plain": [
       "<Figure size 720x360 with 1 Axes>"
      ]
     },
     "metadata": {},
     "output_type": "display_data"
    }
   ],
   "source": [
    "f, ax = plt.subplots(figsize=(10, 5))\n",
    "\n",
    "ax.plot(train_sizes_abs, train_scores_mean, label='Train')\n",
    "ax.plot(train_sizes_abs, cv_scores_mean, label='Cross Validation')\n",
    "\n",
    "ax.legend()"
   ]
  },
  {
   "cell_type": "code",
   "execution_count": 36,
   "metadata": {
    "execution": {
     "iopub.execute_input": "2021-04-02T07:45:52.970643Z",
     "iopub.status.busy": "2021-04-02T07:45:52.969568Z",
     "iopub.status.idle": "2021-04-02T07:45:54.266043Z",
     "shell.execute_reply": "2021-04-02T07:45:54.266465Z"
    },
    "papermill": {
     "duration": 1.381977,
     "end_time": "2021-04-02T07:45:54.266660",
     "exception": false,
     "start_time": "2021-04-02T07:45:52.884683",
     "status": "completed"
    },
    "tags": []
   },
   "outputs": [
    {
     "data": {
      "text/plain": [
       "RandomForestClassifier(criterion='entropy', max_features='log2')"
      ]
     },
     "execution_count": 36,
     "metadata": {},
     "output_type": "execute_result"
    }
   ],
   "source": [
    "# Fitting the model\n",
    "model = best_estimator_\n",
    "model.fit(x_train, y_train)"
   ]
  },
  {
   "cell_type": "markdown",
   "metadata": {
    "papermill": {
     "duration": 0.076118,
     "end_time": "2021-04-02T07:45:54.419581",
     "exception": false,
     "start_time": "2021-04-02T07:45:54.343463",
     "status": "completed"
    },
    "tags": []
   },
   "source": [
    "## Evaluation"
   ]
  },
  {
   "cell_type": "code",
   "execution_count": 37,
   "metadata": {
    "execution": {
     "iopub.execute_input": "2021-04-02T07:45:54.581106Z",
     "iopub.status.busy": "2021-04-02T07:45:54.580375Z",
     "iopub.status.idle": "2021-04-02T07:45:54.652674Z",
     "shell.execute_reply": "2021-04-02T07:45:54.652141Z"
    },
    "papermill": {
     "duration": 0.156572,
     "end_time": "2021-04-02T07:45:54.652822",
     "exception": false,
     "start_time": "2021-04-02T07:45:54.496250",
     "status": "completed"
    },
    "tags": []
   },
   "outputs": [
    {
     "name": "stdout",
     "output_type": "stream",
     "text": [
      "[0 1 0 ... 1 0 0]\n",
      "\n",
      "Prediction: \n",
      "0    3471\n",
      "1    1029\n",
      "Name: 0, dtype: int64\n"
     ]
    }
   ],
   "source": [
    "y_test_pred = model.predict(x_test)\n",
    "print(y_test_pred)\n",
    "print(f\"\\nPrediction: \\n{pd.DataFrame(y_test_pred)[0].value_counts()}\")"
   ]
  },
  {
   "cell_type": "code",
   "execution_count": 38,
   "metadata": {
    "execution": {
     "iopub.execute_input": "2021-04-02T07:45:54.812715Z",
     "iopub.status.busy": "2021-04-02T07:45:54.811974Z",
     "iopub.status.idle": "2021-04-02T07:45:54.817479Z",
     "shell.execute_reply": "2021-04-02T07:45:54.816959Z"
    },
    "papermill": {
     "duration": 0.087656,
     "end_time": "2021-04-02T07:45:54.817642",
     "exception": false,
     "start_time": "2021-04-02T07:45:54.729986",
     "status": "completed"
    },
    "tags": []
   },
   "outputs": [
    {
     "name": "stdout",
     "output_type": "stream",
     "text": [
      "[0 1 0 ... 1 0 0]\n",
      "\n",
      "Actual: \n",
      "0    3408\n",
      "1    1092\n",
      "Name: left, dtype: int64\n"
     ]
    }
   ],
   "source": [
    "print(y_test.values.reshape(1, -1)[0])\n",
    "print()\n",
    "print(f\"Actual: \\n{pd.DataFrame(y_test)['left'].value_counts()}\")"
   ]
  },
  {
   "cell_type": "code",
   "execution_count": 39,
   "metadata": {
    "execution": {
     "iopub.execute_input": "2021-04-02T07:45:54.980247Z",
     "iopub.status.busy": "2021-04-02T07:45:54.979543Z",
     "iopub.status.idle": "2021-04-02T07:45:55.046654Z",
     "shell.execute_reply": "2021-04-02T07:45:55.047177Z"
    },
    "papermill": {
     "duration": 0.152057,
     "end_time": "2021-04-02T07:45:55.047344",
     "exception": false,
     "start_time": "2021-04-02T07:45:54.895287",
     "status": "completed"
    },
    "tags": []
   },
   "outputs": [
    {
     "data": {
      "text/plain": [
       "array([[1., 0.],\n",
       "       [0., 1.],\n",
       "       [1., 0.],\n",
       "       ...,\n",
       "       [0., 1.],\n",
       "       [1., 0.],\n",
       "       [1., 0.]])"
      ]
     },
     "execution_count": 39,
     "metadata": {},
     "output_type": "execute_result"
    }
   ],
   "source": [
    "y_test_prob = model.predict_proba(x_test)\n",
    "y_test_prob"
   ]
  },
  {
   "cell_type": "code",
   "execution_count": 40,
   "metadata": {
    "execution": {
     "iopub.execute_input": "2021-04-02T07:45:55.208873Z",
     "iopub.status.busy": "2021-04-02T07:45:55.208247Z",
     "iopub.status.idle": "2021-04-02T07:45:55.290309Z",
     "shell.execute_reply": "2021-04-02T07:45:55.289736Z"
    },
    "papermill": {
     "duration": 0.163017,
     "end_time": "2021-04-02T07:45:55.290460",
     "exception": false,
     "start_time": "2021-04-02T07:45:55.127443",
     "status": "completed"
    },
    "tags": []
   },
   "outputs": [
    {
     "name": "stdout",
     "output_type": "stream",
     "text": [
      "Model Score: 0.9828888888888889\n",
      "f1-score: 0.982713117888326\n",
      "precision score: 0.9830759901771138\n",
      "recall score: 0.9828888888888889\n"
     ]
    }
   ],
   "source": [
    "print(f'Model Score: {model.score(x_test, y_test)}')\n",
    "print(f'f1-score: {f1_score(y_test, y_test_pred, average=\"weighted\")}')\n",
    "print(f'precision score: {precision_score(y_test, y_test_pred, average=\"weighted\")}')\n",
    "print(f'recall score: {recall_score(y_test, y_test_pred, average=\"weighted\")}')"
   ]
  },
  {
   "cell_type": "code",
   "execution_count": 41,
   "metadata": {
    "execution": {
     "iopub.execute_input": "2021-04-02T07:45:55.460836Z",
     "iopub.status.busy": "2021-04-02T07:45:55.457496Z",
     "iopub.status.idle": "2021-04-02T07:45:55.474120Z",
     "shell.execute_reply": "2021-04-02T07:45:55.474601Z"
    },
    "papermill": {
     "duration": 0.104931,
     "end_time": "2021-04-02T07:45:55.474780",
     "exception": false,
     "start_time": "2021-04-02T07:45:55.369849",
     "status": "completed"
    },
    "tags": []
   },
   "outputs": [
    {
     "name": "stdout",
     "output_type": "stream",
     "text": [
      "[[1022   70]\n",
      " [   7 3401]]\n"
     ]
    }
   ],
   "source": [
    "def plot_confusion_matrix(\n",
    "    cm, classes, normalize=False, title='Confusion matrix', cmap=plt.cm.Blues\n",
    "):\n",
    "    \"\"\"\n",
    "    This function prints and plots the confusion matrix.\n",
    "    Normalization can be applied by setting `normalize=True`.\n",
    "    \"\"\"\n",
    "    if normalize:\n",
    "        cm = cm.astype('float') / cm.sum(axis=1)[:, np.newaxis]\n",
    "        print(\"Normalized confusion matrix\")\n",
    "    else:\n",
    "        print('Confusion matrix, without normalization')\n",
    "\n",
    "    print(cm)\n",
    "\n",
    "    plt.imshow(cm, interpolation='nearest', cmap=cmap)\n",
    "    plt.title(title)\n",
    "    plt.colorbar()\n",
    "    tick_marks = np.arange(len(classes))\n",
    "    plt.xticks(tick_marks, classes, rotation=45)\n",
    "    plt.yticks(tick_marks, classes)\n",
    "\n",
    "    fmt = '.2f' if normalize else 'd'\n",
    "    thresh = cm.max() / 2.\n",
    "    for i, j in itertools.product(range(cm.shape[0]), range(cm.shape[1])):\n",
    "        plt.text(\n",
    "            j,\n",
    "            i,\n",
    "            format(cm[i, j], fmt),\n",
    "            horizontalalignment=\"center\",\n",
    "            color=\"white\" if cm[i, j] > thresh else \"black\"\n",
    "        )\n",
    "\n",
    "    plt.tight_layout()\n",
    "    plt.ylabel('True label')\n",
    "    plt.xlabel('Predicted label')\n",
    "\n",
    "\n",
    "print(confusion_matrix(y_test, y_test_pred, labels=[1, 0]))"
   ]
  },
  {
   "cell_type": "code",
   "execution_count": 42,
   "metadata": {
    "execution": {
     "iopub.execute_input": "2021-04-02T07:45:55.636777Z",
     "iopub.status.busy": "2021-04-02T07:45:55.636053Z",
     "iopub.status.idle": "2021-04-02T07:45:55.859622Z",
     "shell.execute_reply": "2021-04-02T07:45:55.860139Z"
    },
    "papermill": {
     "duration": 0.305833,
     "end_time": "2021-04-02T07:45:55.860308",
     "exception": false,
     "start_time": "2021-04-02T07:45:55.554475",
     "status": "completed"
    },
    "tags": []
   },
   "outputs": [
    {
     "name": "stdout",
     "output_type": "stream",
     "text": [
      "Confusion matrix, without normalization\n",
      "[[1022   70]\n",
      " [   7 3401]]\n"
     ]
    },
    {
     "data": {
      "image/png": "[encoded data removed]",
      "text/plain": [
       "<Figure size 432x288 with 2 Axes>"
      ]
     },
     "metadata": {},
     "output_type": "display_data"
    }
   ],
   "source": [
    "# Compute confusion matrix\n",
    "cnf_matrix = confusion_matrix(y_test, y_test_pred, labels=[1,0])\n",
    "np.set_printoptions(precision=2)\n",
    "\n",
    "\n",
    "# Plot non-normalized confusion matrix\n",
    "plt.figure()\n",
    "plot_confusion_matrix(cnf_matrix, classes=['Leave=1','Stay=0'], normalize= False,  title='Confusion matrix')"
   ]
  },
  {
   "cell_type": "code",
   "execution_count": 43,
   "metadata": {
    "execution": {
     "iopub.execute_input": "2021-04-02T07:45:56.025544Z",
     "iopub.status.busy": "2021-04-02T07:45:56.024921Z",
     "iopub.status.idle": "2021-04-02T07:45:56.042105Z",
     "shell.execute_reply": "2021-04-02T07:45:56.041454Z"
    },
    "papermill": {
     "duration": 0.101477,
     "end_time": "2021-04-02T07:45:56.042248",
     "exception": false,
     "start_time": "2021-04-02T07:45:55.940771",
     "status": "completed"
    },
    "tags": []
   },
   "outputs": [
    {
     "name": "stdout",
     "output_type": "stream",
     "text": [
      "              precision    recall  f1-score   support\n",
      "\n",
      "           0       0.98      1.00      0.99      3408\n",
      "           1       0.99      0.94      0.96      1092\n",
      "\n",
      "    accuracy                           0.98      4500\n",
      "   macro avg       0.99      0.97      0.98      4500\n",
      "weighted avg       0.98      0.98      0.98      4500\n",
      "\n"
     ]
    }
   ],
   "source": [
    "print(classification_report(y_test, y_test_pred))"
   ]
  },
  {
   "cell_type": "code",
   "execution_count": 44,
   "metadata": {
    "execution": {
     "iopub.execute_input": "2021-04-02T07:45:56.216452Z",
     "iopub.status.busy": "2021-04-02T07:45:56.215728Z",
     "iopub.status.idle": "2021-04-02T07:45:56.630378Z",
     "shell.execute_reply": "2021-04-02T07:45:56.629896Z"
    },
    "papermill": {
     "duration": 0.505885,
     "end_time": "2021-04-02T07:45:56.630533",
     "exception": false,
     "start_time": "2021-04-02T07:45:56.124648",
     "status": "completed"
    },
    "tags": []
   },
   "outputs": [
    {
     "data": {
      "image/png": "[encoded data removed]",
      "text/plain": [
       "<Figure size 432x288 with 1 Axes>"
      ]
     },
     "metadata": {},
     "output_type": "display_data"
    }
   ],
   "source": [
    "logit_roc_auc = roc_auc_score(y_test, model.predict(x_test))\n",
    "fpr, tpr, thresholds = roc_curve(y_test, model.predict_proba(x_test)[:,1])\n",
    "\n",
    "plt.figure()\n",
    "plt.plot(fpr, tpr, label='Logistic Regression (area = %0.2f)' % logit_roc_auc)\n",
    "plt.plot([0, 1], [0, 1],'r--')\n",
    "plt.xlim([0.0, 1.0])\n",
    "plt.ylim([0.0, 1.05])\n",
    "plt.xlabel('False Positive Rate')\n",
    "plt.ylabel('True Positive Rate')\n",
    "plt.title('Receiver operating characteristic')\n",
    "plt.legend(loc=\"lower right\")\n",
    "plt.savefig('Log_ROC')\n",
    "plt.show()\n",
    "\n",
    "# The blue farther from red-dotted the better model"
   ]
  },
  {
   "cell_type": "markdown",
   "metadata": {
    "papermill": {
     "duration": 0.080651,
     "end_time": "2021-04-02T07:45:56.792055",
     "exception": false,
     "start_time": "2021-04-02T07:45:56.711404",
     "status": "completed"
    },
    "tags": []
   },
   "source": [
    "### Pipeline"
   ]
  },
  {
   "cell_type": "code",
   "execution_count": 45,
   "metadata": {
    "execution": {
     "iopub.execute_input": "2021-04-02T07:45:56.963881Z",
     "iopub.status.busy": "2021-04-02T07:45:56.963218Z",
     "iopub.status.idle": "2021-04-02T07:45:58.394979Z",
     "shell.execute_reply": "2021-04-02T07:45:58.393949Z"
    },
    "papermill": {
     "duration": 1.522725,
     "end_time": "2021-04-02T07:45:58.395198",
     "exception": false,
     "start_time": "2021-04-02T07:45:56.872473",
     "status": "completed"
    },
    "tags": []
   },
   "outputs": [
    {
     "name": "stdout",
     "output_type": "stream",
     "text": [
      "Model Score: 0.9833333333333333\n",
      "f1-score: 0.9831678101813365\n",
      "precision score: 0.9835070161404643\n",
      "recall score: 0.9833333333333333\n"
     ]
    }
   ],
   "source": [
    "scaling = ('scale', StandardScaler())\n",
    "model = ('model', RandomForestClassifier(criterion='entropy'))\n",
    "\n",
    "# Steps in the pipeline\n",
    "steps = [scaling, model]\n",
    "\n",
    "pipe = Pipeline(steps=steps)\n",
    "\n",
    "# Fiitting the model\n",
    "model = pipe.fit(x_train, y_train)\n",
    "\n",
    "# Out-Of-Sample Forecast\n",
    "y_test_pred = model.predict(x_test)\n",
    "\n",
    "# Evaluation\n",
    "print(f'Model Score: {model.score(x_test, y_test)}')\n",
    "print(f'f1-score: {f1_score(y_test, y_test_pred, average=\"weighted\")}')\n",
    "print(f'precision score: {precision_score(y_test, y_test_pred, average=\"weighted\")}')\n",
    "print(f'recall score: {recall_score(y_test, y_test_pred, average=\"weighted\")}')"
   ]
  },
  {
   "cell_type": "markdown",
   "metadata": {
    "papermill": {
     "duration": 0.080758,
     "end_time": "2021-04-02T07:45:58.577519",
     "exception": false,
     "start_time": "2021-04-02T07:45:58.496761",
     "status": "completed"
    },
    "tags": []
   },
   "source": [
    "### Precision-Recall vs Threshold Chart"
   ]
  },
  {
   "cell_type": "code",
   "execution_count": 46,
   "metadata": {
    "execution": {
     "iopub.execute_input": "2021-04-02T07:45:58.750162Z",
     "iopub.status.busy": "2021-04-02T07:45:58.749474Z",
     "iopub.status.idle": "2021-04-02T07:45:59.093282Z",
     "shell.execute_reply": "2021-04-02T07:45:59.092771Z"
    },
    "papermill": {
     "duration": 0.433843,
     "end_time": "2021-04-02T07:45:59.093429",
     "exception": false,
     "start_time": "2021-04-02T07:45:58.659586",
     "status": "completed"
    },
    "tags": []
   },
   "outputs": [
    {
     "data": {
      "text/plain": [
       "(0.0, 1.0)"
      ]
     },
     "execution_count": 46,
     "metadata": {},
     "output_type": "execute_result"
    },
    {
     "data": {
      "image/png": "[encoded data removed]",
      "text/plain": [
       "<Figure size 432x288 with 1 Axes>"
      ]
     },
     "metadata": {},
     "output_type": "display_data"
    }
   ],
   "source": [
    "log_pred_y = model.predict(x_test) \n",
    "log_probs_y = model.predict_proba(x_test) \n",
    "\n",
    "precision, recall, thresholds = precision_recall_curve(y_test, log_probs_y[:, 1]) \n",
    "pr_auc = auc(recall, precision)\n",
    "\n",
    "plt.title(\"Precision-Recall vs Threshold Chart\")\n",
    "plt.plot(thresholds, precision[: -1], \"b--\", label=\"Precision\")\n",
    "plt.plot(thresholds, recall[: -1], \"r--\", label=\"Recall\")\n",
    "plt.ylabel(\"Precision, Recall\")\n",
    "plt.xlabel(\"Threshold\")\n",
    "plt.legend(loc=\"lower left\")\n",
    "plt.ylim([0,1])"
   ]
  },
  {
   "cell_type": "markdown",
   "metadata": {
    "papermill": {
     "duration": 0.084421,
     "end_time": "2021-04-02T07:45:59.261780",
     "exception": false,
     "start_time": "2021-04-02T07:45:59.177359",
     "status": "completed"
    },
    "tags": []
   },
   "source": [
    "### To control the threshold of probability abpve which we want to consider it has true"
   ]
  },
  {
   "cell_type": "code",
   "execution_count": 47,
   "metadata": {
    "execution": {
     "iopub.execute_input": "2021-04-02T07:45:59.440362Z",
     "iopub.status.busy": "2021-04-02T07:45:59.439704Z",
     "iopub.status.idle": "2021-04-02T07:45:59.745161Z",
     "shell.execute_reply": "2021-04-02T07:45:59.745679Z"
    },
    "papermill": {
     "duration": 0.399883,
     "end_time": "2021-04-02T07:45:59.745850",
     "exception": false,
     "start_time": "2021-04-02T07:45:59.345967",
     "status": "completed"
    },
    "tags": []
   },
   "outputs": [
    {
     "name": "stdout",
     "output_type": "stream",
     "text": [
      "Confusion matrix, without normalization\n",
      "[[1028   64]\n",
      " [  10 3398]]\n",
      "                      0\n",
      "accuracy       0.983556\n",
      "recall         0.941392\n",
      "precision      0.990366\n",
      "f1_score       0.965258\n",
      "roc_auc_score  0.969229\n"
     ]
    },
    {
     "data": {
      "image/png": "[encoded data removed]",
      "text/plain": [
       "<Figure size 432x288 with 2 Axes>"
      ]
     },
     "metadata": {},
     "output_type": "display_data"
    }
   ],
   "source": [
    "THRESHOLD = 0.45\n",
    "preds = np.where(model.predict_proba(x_test)[:,1] > THRESHOLD, 1, 0)\n",
    "\n",
    "results_data = [\n",
    "    accuracy_score(y_test, preds), \n",
    "    recall_score(y_test, preds), \n",
    "    precision_score(y_test, preds), \n",
    "    f1_score(y_test, preds), \n",
    "    roc_auc_score(y_test, preds)\n",
    "]\n",
    "results_indexes = [\"accuracy\", \"recall\", \"precision\", \"f1_score\", \"roc_auc_score\"]\n",
    "results = pd.DataFrame(data=results_data, index=results_indexes)\n",
    "\n",
    "# Compute confusion matrix\n",
    "cnf_matrix = confusion_matrix(y_test, preds, labels=[1,0])\n",
    "np.set_printoptions(precision=2)\n",
    "\n",
    "\n",
    "# Plot non-normalized confusion matrix\n",
    "plt.figure()\n",
    "plot_confusion_matrix(cnf_matrix, classes=['Leave=1','Stay=0'], normalize= False,  title='Confusion matrix')\n",
    "\n",
    "print(results)"
   ]
  },
  {
   "cell_type": "code",
   "execution_count": 48,
   "metadata": {
    "execution": {
     "iopub.execute_input": "2021-04-02T07:45:59.926347Z",
     "iopub.status.busy": "2021-04-02T07:45:59.922745Z",
     "iopub.status.idle": "2021-04-02T07:45:59.992821Z",
     "shell.execute_reply": "2021-04-02T07:45:59.991796Z"
    },
    "papermill": {
     "duration": 0.161203,
     "end_time": "2021-04-02T07:45:59.992967",
     "exception": false,
     "start_time": "2021-04-02T07:45:59.831764",
     "status": "completed"
    },
    "tags": []
   },
   "outputs": [
    {
     "data": {
      "text/plain": [
       "['model.joblib']"
      ]
     },
     "execution_count": 48,
     "metadata": {},
     "output_type": "execute_result"
    }
   ],
   "source": [
    "# Saving the model\n",
    "dump(model, 'model.joblib')"
   ]
  },
  {
   "cell_type": "markdown",
   "metadata": {
    "papermill": {
     "duration": 0.085969,
     "end_time": "2021-04-02T07:46:00.165919",
     "exception": false,
     "start_time": "2021-04-02T07:46:00.079950",
     "status": "completed"
    },
    "tags": []
   },
   "source": [
    "---\n",
    "\n",
    "I'll wrap things up there. If you want to find some other answers then go ahead `edit` this kernel. If you have any `questions` then do let me know.\n",
    "\n",
    "If this kernel helped you then don't forget to 🔼 `upvote` and share your 🎙 `feedback` on improvements of the kernel.\n",
    "\n",
    "![](https://media.giphy.com/media/qatu2fd5vCi7C/giphy.gif)\n",
    "\n",
    "---"
   ]
  }
 ],
 "metadata": {
  "kernelspec": {
   "display_name": "Python 3",
   "language": "python",
   "name": "python3"
  },
  "language_info": {
   "codemirror_mode": {
    "name": "ipython",
    "version": 3
   },
   "file_extension": ".py",
   "mimetype": "text/x-python",
   "name": "python",
   "nbconvert_exporter": "python",
   "pygments_lexer": "ipython3",
   "version": "3.7.9"
  },
  "papermill": {
   "default_parameters": {},
   "duration": 848.344642,
   "end_time": "2021-04-02T07:46:01.166881",
   "environment_variables": {},
   "exception": null,
   "input_path": "__notebook__.ipynb",
   "output_path": "__notebook__.ipynb",
   "parameters": {},
   "start_time": "2021-04-02T07:31:52.822239",
   "version": "2.2.2"
  }
 },
 "nbformat": 4,
 "nbformat_minor": 4
}
